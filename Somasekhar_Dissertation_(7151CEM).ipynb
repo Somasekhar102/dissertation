{
  "cells": [
    {
      "cell_type": "markdown",
      "metadata": {
        "id": "ZqoVM5VqwFYC"
      },
      "source": [
        "# Exploratory Analysis"
      ]
    },
    {
      "cell_type": "code",
      "source": [
        "from google.colab import drive\n",
        "drive.mount('/content/drive')"
      ],
      "metadata": {
        "colab": {
          "base_uri": "https://localhost:8080/"
        },
        "id": "MsCJffsOw3kA",
        "outputId": "2152f483-67ec-4e0a-a8f5-74ec04fae364"
      },
      "execution_count": 2,
      "outputs": [
        {
          "output_type": "stream",
          "name": "stdout",
          "text": [
            "Drive already mounted at /content/drive; to attempt to forcibly remount, call drive.mount(\"/content/drive\", force_remount=True).\n"
          ]
        }
      ]
    },
    {
      "cell_type": "markdown",
      "metadata": {
        "id": "P4x8PxLDwFYD"
      },
      "source": [
        "## Load Data"
      ]
    },
    {
      "cell_type": "code",
      "execution_count": 3,
      "metadata": {
        "execution": {
          "iopub.execute_input": "2024-12-03T16:38:17.247213Z",
          "iopub.status.busy": "2024-12-03T16:38:17.246784Z",
          "iopub.status.idle": "2024-12-03T16:38:17.253384Z",
          "shell.execute_reply": "2024-12-03T16:38:17.252015Z",
          "shell.execute_reply.started": "2024-12-03T16:38:17.247171Z"
        },
        "trusted": true,
        "id": "_mekmHyJwFYD"
      },
      "outputs": [],
      "source": [
        "import pandas as pd\n",
        "import matplotlib.pyplot as plt"
      ]
    },
    {
      "cell_type": "code",
      "execution_count": 4,
      "metadata": {
        "execution": {
          "iopub.execute_input": "2024-12-03T16:38:18.509957Z",
          "iopub.status.busy": "2024-12-03T16:38:18.509506Z",
          "iopub.status.idle": "2024-12-03T16:38:19.557964Z",
          "shell.execute_reply": "2024-12-03T16:38:19.556713Z",
          "shell.execute_reply.started": "2024-12-03T16:38:18.509894Z"
        },
        "trusted": true,
        "id": "zTCi8b-1wFYE"
      },
      "outputs": [],
      "source": [
        "df = pd.read_csv(\"/content/drive/MyDrive/fake-news-classification/train (2).csv\", sep=\";\")"
      ]
    },
    {
      "cell_type": "code",
      "execution_count": 5,
      "metadata": {
        "execution": {
          "iopub.execute_input": "2024-12-03T16:38:19.758467Z",
          "iopub.status.busy": "2024-12-03T16:38:19.757989Z",
          "iopub.status.idle": "2024-12-03T16:38:19.775112Z",
          "shell.execute_reply": "2024-12-03T16:38:19.773857Z",
          "shell.execute_reply.started": "2024-12-03T16:38:19.758428Z"
        },
        "trusted": true,
        "colab": {
          "base_uri": "https://localhost:8080/",
          "height": 424
        },
        "id": "T0ha8q4gwFYE",
        "outputId": "43ebbc1c-2460-413c-ddb8-b0765efec9fe"
      },
      "outputs": [
        {
          "output_type": "execute_result",
          "data": {
            "text/plain": [
              "                                                    text  label\n",
              "0      RAMALLAH, West Bank (Reuters) - Palestinians s...      1\n",
              "1      BEIJING (Reuters) - U.S. President-elect Donal...      1\n",
              "2      While the controversy over Trump s personal ta...      0\n",
              "3      BEIJING (Reuters) - A trip to Beijing last wee...      1\n",
              "4      There has never been a more UNCOURAGEOUS perso...      0\n",
              "...                                                  ...    ...\n",
              "24348  MEXICO CITY (Reuters) - A key committee in Mex...      1\n",
              "24349  IF SHE S NOT TOAST NOW THEN WE RE IN BIGGER TR...      0\n",
              "24350  kremlin nato was created for agression  \\nruss...      0\n",
              "24351  Dallas Cowboys star wide receiver Dez Bryant t...      0\n",
              "24352  UPDATE: Nordstrom stock closed up slightly tod...      0\n",
              "\n",
              "[24353 rows x 2 columns]"
            ],
            "text/html": [
              "\n",
              "  <div id=\"df-cf50bd5f-b95c-400d-a89d-24a113f3df3a\" class=\"colab-df-container\">\n",
              "    <div>\n",
              "<style scoped>\n",
              "    .dataframe tbody tr th:only-of-type {\n",
              "        vertical-align: middle;\n",
              "    }\n",
              "\n",
              "    .dataframe tbody tr th {\n",
              "        vertical-align: top;\n",
              "    }\n",
              "\n",
              "    .dataframe thead th {\n",
              "        text-align: right;\n",
              "    }\n",
              "</style>\n",
              "<table border=\"1\" class=\"dataframe\">\n",
              "  <thead>\n",
              "    <tr style=\"text-align: right;\">\n",
              "      <th></th>\n",
              "      <th>text</th>\n",
              "      <th>label</th>\n",
              "    </tr>\n",
              "  </thead>\n",
              "  <tbody>\n",
              "    <tr>\n",
              "      <th>0</th>\n",
              "      <td>RAMALLAH, West Bank (Reuters) - Palestinians s...</td>\n",
              "      <td>1</td>\n",
              "    </tr>\n",
              "    <tr>\n",
              "      <th>1</th>\n",
              "      <td>BEIJING (Reuters) - U.S. President-elect Donal...</td>\n",
              "      <td>1</td>\n",
              "    </tr>\n",
              "    <tr>\n",
              "      <th>2</th>\n",
              "      <td>While the controversy over Trump s personal ta...</td>\n",
              "      <td>0</td>\n",
              "    </tr>\n",
              "    <tr>\n",
              "      <th>3</th>\n",
              "      <td>BEIJING (Reuters) - A trip to Beijing last wee...</td>\n",
              "      <td>1</td>\n",
              "    </tr>\n",
              "    <tr>\n",
              "      <th>4</th>\n",
              "      <td>There has never been a more UNCOURAGEOUS perso...</td>\n",
              "      <td>0</td>\n",
              "    </tr>\n",
              "    <tr>\n",
              "      <th>...</th>\n",
              "      <td>...</td>\n",
              "      <td>...</td>\n",
              "    </tr>\n",
              "    <tr>\n",
              "      <th>24348</th>\n",
              "      <td>MEXICO CITY (Reuters) - A key committee in Mex...</td>\n",
              "      <td>1</td>\n",
              "    </tr>\n",
              "    <tr>\n",
              "      <th>24349</th>\n",
              "      <td>IF SHE S NOT TOAST NOW THEN WE RE IN BIGGER TR...</td>\n",
              "      <td>0</td>\n",
              "    </tr>\n",
              "    <tr>\n",
              "      <th>24350</th>\n",
              "      <td>kremlin nato was created for agression  \\nruss...</td>\n",
              "      <td>0</td>\n",
              "    </tr>\n",
              "    <tr>\n",
              "      <th>24351</th>\n",
              "      <td>Dallas Cowboys star wide receiver Dez Bryant t...</td>\n",
              "      <td>0</td>\n",
              "    </tr>\n",
              "    <tr>\n",
              "      <th>24352</th>\n",
              "      <td>UPDATE: Nordstrom stock closed up slightly tod...</td>\n",
              "      <td>0</td>\n",
              "    </tr>\n",
              "  </tbody>\n",
              "</table>\n",
              "<p>24353 rows × 2 columns</p>\n",
              "</div>\n",
              "    <div class=\"colab-df-buttons\">\n",
              "\n",
              "  <div class=\"colab-df-container\">\n",
              "    <button class=\"colab-df-convert\" onclick=\"convertToInteractive('df-cf50bd5f-b95c-400d-a89d-24a113f3df3a')\"\n",
              "            title=\"Convert this dataframe to an interactive table.\"\n",
              "            style=\"display:none;\">\n",
              "\n",
              "  <svg xmlns=\"http://www.w3.org/2000/svg\" height=\"24px\" viewBox=\"0 -960 960 960\">\n",
              "    <path d=\"M120-120v-720h720v720H120Zm60-500h600v-160H180v160Zm220 220h160v-160H400v160Zm0 220h160v-160H400v160ZM180-400h160v-160H180v160Zm440 0h160v-160H620v160ZM180-180h160v-160H180v160Zm440 0h160v-160H620v160Z\"/>\n",
              "  </svg>\n",
              "    </button>\n",
              "\n",
              "  <style>\n",
              "    .colab-df-container {\n",
              "      display:flex;\n",
              "      gap: 12px;\n",
              "    }\n",
              "\n",
              "    .colab-df-convert {\n",
              "      background-color: #E8F0FE;\n",
              "      border: none;\n",
              "      border-radius: 50%;\n",
              "      cursor: pointer;\n",
              "      display: none;\n",
              "      fill: #1967D2;\n",
              "      height: 32px;\n",
              "      padding: 0 0 0 0;\n",
              "      width: 32px;\n",
              "    }\n",
              "\n",
              "    .colab-df-convert:hover {\n",
              "      background-color: #E2EBFA;\n",
              "      box-shadow: 0px 1px 2px rgba(60, 64, 67, 0.3), 0px 1px 3px 1px rgba(60, 64, 67, 0.15);\n",
              "      fill: #174EA6;\n",
              "    }\n",
              "\n",
              "    .colab-df-buttons div {\n",
              "      margin-bottom: 4px;\n",
              "    }\n",
              "\n",
              "    [theme=dark] .colab-df-convert {\n",
              "      background-color: #3B4455;\n",
              "      fill: #D2E3FC;\n",
              "    }\n",
              "\n",
              "    [theme=dark] .colab-df-convert:hover {\n",
              "      background-color: #434B5C;\n",
              "      box-shadow: 0px 1px 3px 1px rgba(0, 0, 0, 0.15);\n",
              "      filter: drop-shadow(0px 1px 2px rgba(0, 0, 0, 0.3));\n",
              "      fill: #FFFFFF;\n",
              "    }\n",
              "  </style>\n",
              "\n",
              "    <script>\n",
              "      const buttonEl =\n",
              "        document.querySelector('#df-cf50bd5f-b95c-400d-a89d-24a113f3df3a button.colab-df-convert');\n",
              "      buttonEl.style.display =\n",
              "        google.colab.kernel.accessAllowed ? 'block' : 'none';\n",
              "\n",
              "      async function convertToInteractive(key) {\n",
              "        const element = document.querySelector('#df-cf50bd5f-b95c-400d-a89d-24a113f3df3a');\n",
              "        const dataTable =\n",
              "          await google.colab.kernel.invokeFunction('convertToInteractive',\n",
              "                                                    [key], {});\n",
              "        if (!dataTable) return;\n",
              "\n",
              "        const docLinkHtml = 'Like what you see? Visit the ' +\n",
              "          '<a target=\"_blank\" href=https://colab.research.google.com/notebooks/data_table.ipynb>data table notebook</a>'\n",
              "          + ' to learn more about interactive tables.';\n",
              "        element.innerHTML = '';\n",
              "        dataTable['output_type'] = 'display_data';\n",
              "        await google.colab.output.renderOutput(dataTable, element);\n",
              "        const docLink = document.createElement('div');\n",
              "        docLink.innerHTML = docLinkHtml;\n",
              "        element.appendChild(docLink);\n",
              "      }\n",
              "    </script>\n",
              "  </div>\n",
              "\n",
              "\n",
              "<div id=\"df-56431415-92a2-4d4a-8ff0-f2dd29212793\">\n",
              "  <button class=\"colab-df-quickchart\" onclick=\"quickchart('df-56431415-92a2-4d4a-8ff0-f2dd29212793')\"\n",
              "            title=\"Suggest charts\"\n",
              "            style=\"display:none;\">\n",
              "\n",
              "<svg xmlns=\"http://www.w3.org/2000/svg\" height=\"24px\"viewBox=\"0 0 24 24\"\n",
              "     width=\"24px\">\n",
              "    <g>\n",
              "        <path d=\"M19 3H5c-1.1 0-2 .9-2 2v14c0 1.1.9 2 2 2h14c1.1 0 2-.9 2-2V5c0-1.1-.9-2-2-2zM9 17H7v-7h2v7zm4 0h-2V7h2v10zm4 0h-2v-4h2v4z\"/>\n",
              "    </g>\n",
              "</svg>\n",
              "  </button>\n",
              "\n",
              "<style>\n",
              "  .colab-df-quickchart {\n",
              "      --bg-color: #E8F0FE;\n",
              "      --fill-color: #1967D2;\n",
              "      --hover-bg-color: #E2EBFA;\n",
              "      --hover-fill-color: #174EA6;\n",
              "      --disabled-fill-color: #AAA;\n",
              "      --disabled-bg-color: #DDD;\n",
              "  }\n",
              "\n",
              "  [theme=dark] .colab-df-quickchart {\n",
              "      --bg-color: #3B4455;\n",
              "      --fill-color: #D2E3FC;\n",
              "      --hover-bg-color: #434B5C;\n",
              "      --hover-fill-color: #FFFFFF;\n",
              "      --disabled-bg-color: #3B4455;\n",
              "      --disabled-fill-color: #666;\n",
              "  }\n",
              "\n",
              "  .colab-df-quickchart {\n",
              "    background-color: var(--bg-color);\n",
              "    border: none;\n",
              "    border-radius: 50%;\n",
              "    cursor: pointer;\n",
              "    display: none;\n",
              "    fill: var(--fill-color);\n",
              "    height: 32px;\n",
              "    padding: 0;\n",
              "    width: 32px;\n",
              "  }\n",
              "\n",
              "  .colab-df-quickchart:hover {\n",
              "    background-color: var(--hover-bg-color);\n",
              "    box-shadow: 0 1px 2px rgba(60, 64, 67, 0.3), 0 1px 3px 1px rgba(60, 64, 67, 0.15);\n",
              "    fill: var(--button-hover-fill-color);\n",
              "  }\n",
              "\n",
              "  .colab-df-quickchart-complete:disabled,\n",
              "  .colab-df-quickchart-complete:disabled:hover {\n",
              "    background-color: var(--disabled-bg-color);\n",
              "    fill: var(--disabled-fill-color);\n",
              "    box-shadow: none;\n",
              "  }\n",
              "\n",
              "  .colab-df-spinner {\n",
              "    border: 2px solid var(--fill-color);\n",
              "    border-color: transparent;\n",
              "    border-bottom-color: var(--fill-color);\n",
              "    animation:\n",
              "      spin 1s steps(1) infinite;\n",
              "  }\n",
              "\n",
              "  @keyframes spin {\n",
              "    0% {\n",
              "      border-color: transparent;\n",
              "      border-bottom-color: var(--fill-color);\n",
              "      border-left-color: var(--fill-color);\n",
              "    }\n",
              "    20% {\n",
              "      border-color: transparent;\n",
              "      border-left-color: var(--fill-color);\n",
              "      border-top-color: var(--fill-color);\n",
              "    }\n",
              "    30% {\n",
              "      border-color: transparent;\n",
              "      border-left-color: var(--fill-color);\n",
              "      border-top-color: var(--fill-color);\n",
              "      border-right-color: var(--fill-color);\n",
              "    }\n",
              "    40% {\n",
              "      border-color: transparent;\n",
              "      border-right-color: var(--fill-color);\n",
              "      border-top-color: var(--fill-color);\n",
              "    }\n",
              "    60% {\n",
              "      border-color: transparent;\n",
              "      border-right-color: var(--fill-color);\n",
              "    }\n",
              "    80% {\n",
              "      border-color: transparent;\n",
              "      border-right-color: var(--fill-color);\n",
              "      border-bottom-color: var(--fill-color);\n",
              "    }\n",
              "    90% {\n",
              "      border-color: transparent;\n",
              "      border-bottom-color: var(--fill-color);\n",
              "    }\n",
              "  }\n",
              "</style>\n",
              "\n",
              "  <script>\n",
              "    async function quickchart(key) {\n",
              "      const quickchartButtonEl =\n",
              "        document.querySelector('#' + key + ' button');\n",
              "      quickchartButtonEl.disabled = true;  // To prevent multiple clicks.\n",
              "      quickchartButtonEl.classList.add('colab-df-spinner');\n",
              "      try {\n",
              "        const charts = await google.colab.kernel.invokeFunction(\n",
              "            'suggestCharts', [key], {});\n",
              "      } catch (error) {\n",
              "        console.error('Error during call to suggestCharts:', error);\n",
              "      }\n",
              "      quickchartButtonEl.classList.remove('colab-df-spinner');\n",
              "      quickchartButtonEl.classList.add('colab-df-quickchart-complete');\n",
              "    }\n",
              "    (() => {\n",
              "      let quickchartButtonEl =\n",
              "        document.querySelector('#df-56431415-92a2-4d4a-8ff0-f2dd29212793 button');\n",
              "      quickchartButtonEl.style.display =\n",
              "        google.colab.kernel.accessAllowed ? 'block' : 'none';\n",
              "    })();\n",
              "  </script>\n",
              "</div>\n",
              "\n",
              "  <div id=\"id_af9cd558-0c49-4b9b-ad4f-7b17d4c80ae5\">\n",
              "    <style>\n",
              "      .colab-df-generate {\n",
              "        background-color: #E8F0FE;\n",
              "        border: none;\n",
              "        border-radius: 50%;\n",
              "        cursor: pointer;\n",
              "        display: none;\n",
              "        fill: #1967D2;\n",
              "        height: 32px;\n",
              "        padding: 0 0 0 0;\n",
              "        width: 32px;\n",
              "      }\n",
              "\n",
              "      .colab-df-generate:hover {\n",
              "        background-color: #E2EBFA;\n",
              "        box-shadow: 0px 1px 2px rgba(60, 64, 67, 0.3), 0px 1px 3px 1px rgba(60, 64, 67, 0.15);\n",
              "        fill: #174EA6;\n",
              "      }\n",
              "\n",
              "      [theme=dark] .colab-df-generate {\n",
              "        background-color: #3B4455;\n",
              "        fill: #D2E3FC;\n",
              "      }\n",
              "\n",
              "      [theme=dark] .colab-df-generate:hover {\n",
              "        background-color: #434B5C;\n",
              "        box-shadow: 0px 1px 3px 1px rgba(0, 0, 0, 0.15);\n",
              "        filter: drop-shadow(0px 1px 2px rgba(0, 0, 0, 0.3));\n",
              "        fill: #FFFFFF;\n",
              "      }\n",
              "    </style>\n",
              "    <button class=\"colab-df-generate\" onclick=\"generateWithVariable('df')\"\n",
              "            title=\"Generate code using this dataframe.\"\n",
              "            style=\"display:none;\">\n",
              "\n",
              "  <svg xmlns=\"http://www.w3.org/2000/svg\" height=\"24px\"viewBox=\"0 0 24 24\"\n",
              "       width=\"24px\">\n",
              "    <path d=\"M7,19H8.4L18.45,9,17,7.55,7,17.6ZM5,21V16.75L18.45,3.32a2,2,0,0,1,2.83,0l1.4,1.43a1.91,1.91,0,0,1,.58,1.4,1.91,1.91,0,0,1-.58,1.4L9.25,21ZM18.45,9,17,7.55Zm-12,3A5.31,5.31,0,0,0,4.9,8.1,5.31,5.31,0,0,0,1,6.5,5.31,5.31,0,0,0,4.9,4.9,5.31,5.31,0,0,0,6.5,1,5.31,5.31,0,0,0,8.1,4.9,5.31,5.31,0,0,0,12,6.5,5.46,5.46,0,0,0,6.5,12Z\"/>\n",
              "  </svg>\n",
              "    </button>\n",
              "    <script>\n",
              "      (() => {\n",
              "      const buttonEl =\n",
              "        document.querySelector('#id_af9cd558-0c49-4b9b-ad4f-7b17d4c80ae5 button.colab-df-generate');\n",
              "      buttonEl.style.display =\n",
              "        google.colab.kernel.accessAllowed ? 'block' : 'none';\n",
              "\n",
              "      buttonEl.onclick = () => {\n",
              "        google.colab.notebook.generateWithVariable('df');\n",
              "      }\n",
              "      })();\n",
              "    </script>\n",
              "  </div>\n",
              "\n",
              "    </div>\n",
              "  </div>\n"
            ],
            "application/vnd.google.colaboratory.intrinsic+json": {
              "type": "dataframe",
              "variable_name": "df",
              "summary": "{\n  \"name\": \"df\",\n  \"rows\": 24353,\n  \"fields\": [\n    {\n      \"column\": \"text\",\n      \"properties\": {\n        \"dtype\": \"string\",\n        \"num_unique_values\": 24352,\n        \"samples\": [\n          \"Wake up Christians the left won t stop until they ve removed any mention of Christ in your church The Bishop of Stockholm has proposed a church in her diocese remove all signs of the cross and put down markings showing the direction to Mecca for the benefit of Muslim worshippers.Eva Brunne, who was made the world s first openly lesbian bishop by the church of Sweden in 2009, and has a young son with her wife and fellow lesbian priest Gunilla Linden, made the suggestion to make those of other faiths more welcome.The church targeted is the Seamen s mission church in Stockholm s eastern dockyards. The Bishop held a meeting there this year and challenged the priest to explain what he d do if a ship s crew came into port who weren t Christian but wanted to pray.Calling Muslim guests to the church  angels , the Bishop later took to her official blog to explain that removing Christian symbols from the church and preparing the building for Muslim prayer doesn t make a priest any less a defender of the faith. Rather, to do any less would make one  stingy towards people of other faiths .The bishop insisted this wasn t an issue, after all airports and hospitals already had multi-faith prayer rooms, and converting the dockyard church would only bring it up to speed. Regardless, the announcement has aroused protest.Father Patrik Pettersson, one of the priests in her diocese and active in the same parish as the Seaman s mission church has hit back in a blog of his own, complaining there is no way you could equate a consecrated church with a prayer room, remarking  I should have thought a bishop would be able to tell the difference .Calling the bishop s words  theologically unthinking , he asked what was to be done with crucifixes screwed to the walls, and heavy items such as baptismal fonts. Ignoring the rhetorical murmuring , Pettersson wrote:  The only argument bishop Eva really put forward in support of her view is  hospitality  How do you respond to that? Not much of a basis for discussion, as one colleague put it. The theological, ecclesiological, pastoral and working issues are left untouched .Via: Breitbart News\",\n          \"On Wednesday Barack Obama lashed out at CBS reporter Major Garrett after he asked him about the four Americans left behind to languish in Iranian prisons.Former Marine Amir Hekmati, Saeed Abedini and Vahid Salemi are being held in Iranian prisons. (Breitbart)Obama was defending his nuclear deal with Iran when Garrett asked him about the US hostages in Iran.https://youtu.be/rqdVAd25CHUObama: I got to give you credit Major for how you craft those questions. the notion that I m content as I celebrate with American citizens languishing in Iranian jails.   Major, that s nonsense and you should know better.Of course, that is exactly what he did. The Obama administration did nothing to free American hostages during their talks with the Iranian regime.Now we know  Obama released a top Iranian scientist as part of the deal but left the Americans to rot in hell in Iranian prisons. The Times of Israel reported:Mojtaba Atarodi, arrested in California for attempting to acquire equipment for Iran s military-nuclear programs, was released in April as part of back channel talks, Times of Israel told. The contacts, mediated in Oman for years by close colleague of the Sultan, have seen a series of US-Iran prisoner releases, and there may be more to come.The secret back channel of negotiations between Iran and the United States, which led to this month s interim deal in Geneva on Iran s rogue nuclear program, has also seen a series of prisoner releases by both sides, which have played a central role in bridging the distance between the two nations, the Times of Israel has been told.In the most dramatic of those releases, the US in April released a top Iranian scientist, Mojtaba Atarodi, who had been arrested in 2011 for attempting to acquire equipment that could be used for Iran s military-nuclear programs.No wonder he didn t want reporters talking about it!Via: Gateway Pundit\",\n          \"eu un secretarygeneral ban kimoon c meets with greek cypriot president nicos anastasiades l and mustafa akinci r the turkish cypriot leader at the un headquarters in new york september   photo by afp \\ncypriot political leaders have agreed to continue talks in switzerland next month in an attempt to reach an agreement on the reunification of the mediterranean island country the united nations un has announced \\na un spokesman aleem siddique made the announcement on wednesday saying greek cypriot president nicos anastasiades and turkish cypriot leader mustafa akinci will meet at mont pelerin near lake geneva from november  to  \\nsiddique said the two leaders in the presence of the un envoy for cyprus will concentrate their talks on how much territory each side will administer under an envisioned federation and will discuss all other outstanding issues too \\nthe leaders have expressed hope that the switzerland meeting will pave the way for the last phase of talks in line with their shared commitment to do their utmost in order to reach a settlement within  the un spokesman said \\nnegotiations on reuniting the mediterranean island under a single federal roof have made significant headway since anastasiades and akinci resumed talks led by the un nearly  months ago \\nhowever important differences still remain on the question of territorial arrangements security and property rights \\nprevious unmediated talks to reunify the mediterranean island faced a deadlock in october  when turkey announced plans to search for oil and gas in waters off cyprus \\ncyprus has been divided since  after an intervention by turkey which came when a military coup was carried out by individuals who sought to unify the island with greece \\nnearly one decade later in  turkish cypriots declared an independent state which has only been recognized by ankara turkey has some  soldiers stationed in the north of that part of cyprus \\ncyprus has been a european union eu member since  but only the south enjoys full membership benefits loading\"\n        ],\n        \"semantic_type\": \"\",\n        \"description\": \"\"\n      }\n    },\n    {\n      \"column\": \"label\",\n      \"properties\": {\n        \"dtype\": \"number\",\n        \"std\": 0,\n        \"min\": 0,\n        \"max\": 1,\n        \"num_unique_values\": 2,\n        \"samples\": [\n          0,\n          1\n        ],\n        \"semantic_type\": \"\",\n        \"description\": \"\"\n      }\n    }\n  ]\n}"
            }
          },
          "metadata": {},
          "execution_count": 5
        }
      ],
      "source": [
        "df = df[['text', 'label']]\n",
        "df"
      ]
    },
    {
      "cell_type": "markdown",
      "metadata": {
        "id": "RdF_GVOWwFYE"
      },
      "source": [
        "## Label Distribution"
      ]
    },
    {
      "cell_type": "code",
      "execution_count": 6,
      "metadata": {
        "execution": {
          "iopub.execute_input": "2024-12-03T16:38:21.714169Z",
          "iopub.status.busy": "2024-12-03T16:38:21.713756Z",
          "iopub.status.idle": "2024-12-03T16:38:22.000348Z",
          "shell.execute_reply": "2024-12-03T16:38:21.999196Z",
          "shell.execute_reply.started": "2024-12-03T16:38:21.714132Z"
        },
        "trusted": true,
        "colab": {
          "base_uri": "https://localhost:8080/",
          "height": 671
        },
        "id": "qPGeGio0wFYE",
        "outputId": "eb00ef31-c5b8-4cb8-87a8-775bf4487e6c"
      },
      "outputs": [
        {
          "output_type": "stream",
          "name": "stdout",
          "text": [
            "label\n",
            "1    13246\n",
            "0    11107\n",
            "Name: count, dtype: int64\n"
          ]
        },
        {
          "output_type": "stream",
          "name": "stderr",
          "text": [
            "<ipython-input-6-ee6f0b632d65>:13: FutureWarning: \n",
            "\n",
            "Passing `palette` without assigning `hue` is deprecated and will be removed in v0.14.0. Assign the `x` variable to `hue` and set `legend=False` for the same effect.\n",
            "\n",
            "  sns.barplot(x='Label', y='Count', data=category_counts, palette='pastel')\n"
          ]
        },
        {
          "output_type": "execute_result",
          "data": {
            "text/plain": [
              "<Axes: title={'center': 'News Label distribution'}, xlabel='Label', ylabel='Count'>"
            ]
          },
          "metadata": {},
          "execution_count": 6
        },
        {
          "output_type": "display_data",
          "data": {
            "text/plain": [
              "<Figure size 640x480 with 1 Axes>"
            ],
            "image/png": "[encoded data removed]"
          },
          "metadata": {}
        }
      ],
      "source": [
        "import seaborn as sns\n",
        "\n",
        "print(df['label'].value_counts())\n",
        "\n",
        "category_counts = df['label'].value_counts().reset_index()\n",
        "category_counts.columns = ['Label', 'Count']\n",
        "\n",
        "plt.title(\"News Label distribution\")\n",
        "plt.xlabel(\"Label\")\n",
        "plt.ylabel(\"Count\")\n",
        "\n",
        "sns.set_theme(style=\"whitegrid\")\n",
        "sns.barplot(x='Label', y='Count', data=category_counts, palette='pastel')"
      ]
    },
    {
      "cell_type": "markdown",
      "metadata": {
        "id": "1dOUwMzVwFYF"
      },
      "source": [
        "## Text size statistics"
      ]
    },
    {
      "cell_type": "code",
      "execution_count": 7,
      "metadata": {
        "execution": {
          "iopub.execute_input": "2024-12-03T16:38:24.820832Z",
          "iopub.status.busy": "2024-12-03T16:38:24.820414Z",
          "iopub.status.idle": "2024-12-03T16:38:24.850059Z",
          "shell.execute_reply": "2024-12-03T16:38:24.848698Z",
          "shell.execute_reply.started": "2024-12-03T16:38:24.820796Z"
        },
        "trusted": true,
        "colab": {
          "base_uri": "https://localhost:8080/",
          "height": 335
        },
        "id": "QpSOVsqKwFYF",
        "outputId": "ac9513c2-48ef-4ea7-c5a7-edb6e8f68d39"
      },
      "outputs": [
        {
          "output_type": "execute_result",
          "data": {
            "text/plain": [
              "count    24353.000000\n",
              "mean      2501.703774\n",
              "std       2114.691683\n",
              "min          1.000000\n",
              "25%       1301.000000\n",
              "50%       2224.000000\n",
              "75%       3131.000000\n",
              "max      48835.000000\n",
              "Name: text, dtype: float64"
            ],
            "text/html": [
              "<div>\n",
              "<style scoped>\n",
              "    .dataframe tbody tr th:only-of-type {\n",
              "        vertical-align: middle;\n",
              "    }\n",
              "\n",
              "    .dataframe tbody tr th {\n",
              "        vertical-align: top;\n",
              "    }\n",
              "\n",
              "    .dataframe thead th {\n",
              "        text-align: right;\n",
              "    }\n",
              "</style>\n",
              "<table border=\"1\" class=\"dataframe\">\n",
              "  <thead>\n",
              "    <tr style=\"text-align: right;\">\n",
              "      <th></th>\n",
              "      <th>text</th>\n",
              "    </tr>\n",
              "  </thead>\n",
              "  <tbody>\n",
              "    <tr>\n",
              "      <th>count</th>\n",
              "      <td>24353.000000</td>\n",
              "    </tr>\n",
              "    <tr>\n",
              "      <th>mean</th>\n",
              "      <td>2501.703774</td>\n",
              "    </tr>\n",
              "    <tr>\n",
              "      <th>std</th>\n",
              "      <td>2114.691683</td>\n",
              "    </tr>\n",
              "    <tr>\n",
              "      <th>min</th>\n",
              "      <td>1.000000</td>\n",
              "    </tr>\n",
              "    <tr>\n",
              "      <th>25%</th>\n",
              "      <td>1301.000000</td>\n",
              "    </tr>\n",
              "    <tr>\n",
              "      <th>50%</th>\n",
              "      <td>2224.000000</td>\n",
              "    </tr>\n",
              "    <tr>\n",
              "      <th>75%</th>\n",
              "      <td>3131.000000</td>\n",
              "    </tr>\n",
              "    <tr>\n",
              "      <th>max</th>\n",
              "      <td>48835.000000</td>\n",
              "    </tr>\n",
              "  </tbody>\n",
              "</table>\n",
              "</div><br><label><b>dtype:</b> float64</label>"
            ]
          },
          "metadata": {},
          "execution_count": 7
        }
      ],
      "source": [
        "text_len_series = df['text'].apply(lambda x: len(x))\n",
        "text_len_series.describe()"
      ]
    },
    {
      "cell_type": "markdown",
      "metadata": {
        "id": "rZvO7L9WwFYF"
      },
      "source": [
        "## True News Example"
      ]
    },
    {
      "cell_type": "code",
      "execution_count": 8,
      "metadata": {
        "execution": {
          "iopub.execute_input": "2024-12-03T16:38:27.206697Z",
          "iopub.status.busy": "2024-12-03T16:38:27.206264Z",
          "iopub.status.idle": "2024-12-03T16:38:27.221904Z",
          "shell.execute_reply": "2024-12-03T16:38:27.220672Z",
          "shell.execute_reply.started": "2024-12-03T16:38:27.206652Z"
        },
        "trusted": true,
        "colab": {
          "base_uri": "https://localhost:8080/",
          "height": 232
        },
        "id": "qoijP6ywwFYF",
        "outputId": "4ef825a3-8d89-466c-9a46-c4e4668cecde"
      },
      "outputs": [
        {
          "output_type": "execute_result",
          "data": {
            "text/plain": [
              "'RAMALLAH, West Bank (Reuters) - Palestinians switched off Christmas lights at Jesus  traditional birthplace in Bethlehem on Wednesday night in protest at U.S. President Donald Trump s decision to recognize Jerusalem as Israel s capital. A Christmas tree adorned with lights outside Bethlehem s Church of the Nativity, where Christians believe Jesus was born, and another in Ramallah, next to the burial site of former Palestinian leader Yasser Arafat, were plunged into darkness.  The Christmas tree was switched off on the order of the mayor today in protest at Trump s decision,  said Fady Ghattas, Bethlehem s municipal media officer.  He said it was unclear whether the illuminations would be turned on again before the main Christmas festivities. In a speech in Washington, Trump said he had decided to recognize Jerusalem as Israel s capital and move the U.S. embassy to the city. Israeli Prime Minister Benjamin Netanyahu said Trump s move  marked the beginning of a new approach to the Israeli-Palestinian conflict and said it was an  historic landmark . Arabs and Muslims across the Middle East condemned the U.S. decision, calling it an incendiary move in a volatile region and the European Union and United Nations also voiced alarm at the possible repercussions for any chances of reviving Israeli-Palestinian peacemaking. '"
            ],
            "application/vnd.google.colaboratory.intrinsic+json": {
              "type": "string"
            }
          },
          "metadata": {},
          "execution_count": 8
        }
      ],
      "source": [
        "df.query(\"label == 1\").text[0]"
      ]
    },
    {
      "cell_type": "markdown",
      "metadata": {
        "id": "2EuFHOqkwFYF"
      },
      "source": [
        "## Fake News Example"
      ]
    },
    {
      "cell_type": "code",
      "execution_count": 9,
      "metadata": {
        "execution": {
          "iopub.execute_input": "2024-12-03T16:38:29.467080Z",
          "iopub.status.busy": "2024-12-03T16:38:29.466708Z",
          "iopub.status.idle": "2024-12-03T16:38:29.479141Z",
          "shell.execute_reply": "2024-12-03T16:38:29.477879Z",
          "shell.execute_reply.started": "2024-12-03T16:38:29.467037Z"
        },
        "trusted": true,
        "colab": {
          "base_uri": "https://localhost:8080/",
          "height": 232
        },
        "id": "ovXDD1eVwFYF",
        "outputId": "81597b72-d78a-46e8-fee6-f9596f123184"
      },
      "outputs": [
        {
          "output_type": "execute_result",
          "data": {
            "text/plain": [
              "'While the controversy over Trump s personal tax returns continues, business credit rating company Nav decided to take a look at his business  credit, and published the results on their website. Nav, which actually does have an A+ rating from the Better Business Bureau (as opposed to Trump U. s final rating), pulled together the factors affecting business credit scores and discovered something truly laughable.The highest possible business score is 100. The Trump Organization s score is 19. Nineteen. As in more than 15 but less than 20, and it s actually dropped 18 points. This puts the company in the medium to high-risk category:The organization is considered highly likely to default on its debts, and it averages sending payments 17 days late. They also have six derogatories, which can be delinquent loans that have been turned over to collections, as well as tax liens and judgments against the organization. According to Nav, that last one usually means the business was the defendant in a lawsuit and is now required to pay damages to the plaintiff.Compare that to the Clinton Foundation, which has a score of 42. 42 isn t great, but it s a hell of a lot better than the Trump Organization s.*Note: The Clinton Foundation has been around since 1997, but has only been known in its current form for the last three years.Despite not having stellar credit either, the Clinton Foundation also has no derogatories and makes its payments on time.This whole thing is laughable considering the wonderful businessman Trump seems to think he is. It s even more laughable considering that Trump says nobody knows debt better than he does. In August, he boasted that he has  very little debt  relative to his assets.Regardless of whether that s true, the fact that the Trump Organization s credit score is so low suggests that Trump is either not nearly as good at managing what debt he does have as well as he claims, or he s not nearly as good at managing his businesses as well as he claims.This credit score is hilarious.Featured image by Scott Olson via Getty Images'"
            ],
            "application/vnd.google.colaboratory.intrinsic+json": {
              "type": "string"
            }
          },
          "metadata": {},
          "execution_count": 9
        }
      ],
      "source": [
        "df.query(\"label == 0\").text[2]"
      ]
    },
    {
      "cell_type": "markdown",
      "metadata": {
        "id": "r-8am7fxwFYF"
      },
      "source": [
        "# Preprocessing"
      ]
    },
    {
      "cell_type": "markdown",
      "metadata": {
        "id": "55YmBu7IwFYF"
      },
      "source": [
        "## Duplicates"
      ]
    },
    {
      "cell_type": "code",
      "execution_count": 10,
      "metadata": {
        "execution": {
          "iopub.execute_input": "2024-12-03T16:38:31.626929Z",
          "iopub.status.busy": "2024-12-03T16:38:31.626499Z",
          "iopub.status.idle": "2024-12-03T16:38:31.693758Z",
          "shell.execute_reply": "2024-12-03T16:38:31.692545Z",
          "shell.execute_reply.started": "2024-12-03T16:38:31.626891Z"
        },
        "trusted": true,
        "colab": {
          "base_uri": "https://localhost:8080/",
          "height": 81
        },
        "id": "l0fgXfqbwFYF",
        "outputId": "429ca375-0bdc-4814-f68c-15d31f44829a"
      },
      "outputs": [
        {
          "output_type": "execute_result",
          "data": {
            "text/plain": [
              "                                                    text  label\n",
              "18813  In its 109-year history, only one F.B.I. direc...      0"
            ],
            "text/html": [
              "\n",
              "  <div id=\"df-35190cfb-b4ca-45fd-bf6d-d00a253f1b2a\" class=\"colab-df-container\">\n",
              "    <div>\n",
              "<style scoped>\n",
              "    .dataframe tbody tr th:only-of-type {\n",
              "        vertical-align: middle;\n",
              "    }\n",
              "\n",
              "    .dataframe tbody tr th {\n",
              "        vertical-align: top;\n",
              "    }\n",
              "\n",
              "    .dataframe thead th {\n",
              "        text-align: right;\n",
              "    }\n",
              "</style>\n",
              "<table border=\"1\" class=\"dataframe\">\n",
              "  <thead>\n",
              "    <tr style=\"text-align: right;\">\n",
              "      <th></th>\n",
              "      <th>text</th>\n",
              "      <th>label</th>\n",
              "    </tr>\n",
              "  </thead>\n",
              "  <tbody>\n",
              "    <tr>\n",
              "      <th>18813</th>\n",
              "      <td>In its 109-year history, only one F.B.I. direc...</td>\n",
              "      <td>0</td>\n",
              "    </tr>\n",
              "  </tbody>\n",
              "</table>\n",
              "</div>\n",
              "    <div class=\"colab-df-buttons\">\n",
              "\n",
              "  <div class=\"colab-df-container\">\n",
              "    <button class=\"colab-df-convert\" onclick=\"convertToInteractive('df-35190cfb-b4ca-45fd-bf6d-d00a253f1b2a')\"\n",
              "            title=\"Convert this dataframe to an interactive table.\"\n",
              "            style=\"display:none;\">\n",
              "\n",
              "  <svg xmlns=\"http://www.w3.org/2000/svg\" height=\"24px\" viewBox=\"0 -960 960 960\">\n",
              "    <path d=\"M120-120v-720h720v720H120Zm60-500h600v-160H180v160Zm220 220h160v-160H400v160Zm0 220h160v-160H400v160ZM180-400h160v-160H180v160Zm440 0h160v-160H620v160ZM180-180h160v-160H180v160Zm440 0h160v-160H620v160Z\"/>\n",
              "  </svg>\n",
              "    </button>\n",
              "\n",
              "  <style>\n",
              "    .colab-df-container {\n",
              "      display:flex;\n",
              "      gap: 12px;\n",
              "    }\n",
              "\n",
              "    .colab-df-convert {\n",
              "      background-color: #E8F0FE;\n",
              "      border: none;\n",
              "      border-radius: 50%;\n",
              "      cursor: pointer;\n",
              "      display: none;\n",
              "      fill: #1967D2;\n",
              "      height: 32px;\n",
              "      padding: 0 0 0 0;\n",
              "      width: 32px;\n",
              "    }\n",
              "\n",
              "    .colab-df-convert:hover {\n",
              "      background-color: #E2EBFA;\n",
              "      box-shadow: 0px 1px 2px rgba(60, 64, 67, 0.3), 0px 1px 3px 1px rgba(60, 64, 67, 0.15);\n",
              "      fill: #174EA6;\n",
              "    }\n",
              "\n",
              "    .colab-df-buttons div {\n",
              "      margin-bottom: 4px;\n",
              "    }\n",
              "\n",
              "    [theme=dark] .colab-df-convert {\n",
              "      background-color: #3B4455;\n",
              "      fill: #D2E3FC;\n",
              "    }\n",
              "\n",
              "    [theme=dark] .colab-df-convert:hover {\n",
              "      background-color: #434B5C;\n",
              "      box-shadow: 0px 1px 3px 1px rgba(0, 0, 0, 0.15);\n",
              "      filter: drop-shadow(0px 1px 2px rgba(0, 0, 0, 0.3));\n",
              "      fill: #FFFFFF;\n",
              "    }\n",
              "  </style>\n",
              "\n",
              "    <script>\n",
              "      const buttonEl =\n",
              "        document.querySelector('#df-35190cfb-b4ca-45fd-bf6d-d00a253f1b2a button.colab-df-convert');\n",
              "      buttonEl.style.display =\n",
              "        google.colab.kernel.accessAllowed ? 'block' : 'none';\n",
              "\n",
              "      async function convertToInteractive(key) {\n",
              "        const element = document.querySelector('#df-35190cfb-b4ca-45fd-bf6d-d00a253f1b2a');\n",
              "        const dataTable =\n",
              "          await google.colab.kernel.invokeFunction('convertToInteractive',\n",
              "                                                    [key], {});\n",
              "        if (!dataTable) return;\n",
              "\n",
              "        const docLinkHtml = 'Like what you see? Visit the ' +\n",
              "          '<a target=\"_blank\" href=https://colab.research.google.com/notebooks/data_table.ipynb>data table notebook</a>'\n",
              "          + ' to learn more about interactive tables.';\n",
              "        element.innerHTML = '';\n",
              "        dataTable['output_type'] = 'display_data';\n",
              "        await google.colab.output.renderOutput(dataTable, element);\n",
              "        const docLink = document.createElement('div');\n",
              "        docLink.innerHTML = docLinkHtml;\n",
              "        element.appendChild(docLink);\n",
              "      }\n",
              "    </script>\n",
              "  </div>\n",
              "\n",
              "\n",
              "    </div>\n",
              "  </div>\n"
            ],
            "application/vnd.google.colaboratory.intrinsic+json": {
              "type": "dataframe",
              "summary": "{\n  \"name\": \"df[df\",\n  \"rows\": 1,\n  \"fields\": [\n    {\n      \"column\": \"text\",\n      \"properties\": {\n        \"dtype\": \"string\",\n        \"num_unique_values\": 1,\n        \"samples\": [\n          \"In its 109-year history, only one F.B.I. director had been fired   until Tuesday, when President Trump fired James B. Comey. In July 1993, President Bill Clinton fired William S. Sessions, who had been nominated to the post by President Ronald Reagan in 1987. Mr. Clinton said his attorney general, Janet Reno, reviewed Mr. Sessions s leadership and concluded  in no uncertain terms that he can no longer effectively lead the bureau. Mr. Sessions had been cited for ethical lapses, including taking free trips on F.B.I. aircraft and using government money to build a $10,000 fence at his home. Mr. Sessions was asked to resign, and was fired when he refused to do so.  Despite the president s severe tone, he seemed to regret having to force Mr. Sessions from his post,  The New York Times wrote about his dismissal:WASHINGTON, July 19  President Clinton today dismissed William S. Sessions, the Director of the Federal Bureau of Investigation, who had stubbornly rejected an Administration ultimatum to resign six months after a harsh internal ethics report on his conduct.Mr. Clinton said he would announce his nominee to replace Mr. Sessions on Tuesday. He was expected to pick Judge Louis J. Freeh of Federal District Court in Manhattan; officials said Judge Freeh had impressed Mr. Clinton favorably on Friday at their first meeting.Mr. Clinton, explaining his reasons for removing Mr. Sessions, effective immediately, said,  We cannot have a leadership vacuum at an agency as important to the United States as the F.B.I. It is time that this difficult chapter in the agency s history is brought to a close.  Defiant to the EndBut in a parting news conference at F.B.I. headquarters after Mr. Clinton s announcement, a defiant Mr. Sessions   his right arm in a sling as a result of a weekend fall   railed at what he called the unfairness of his removal, which comes nearly six years into his 10-year term. Because of the scurrilous attacks on me and my wife of 42 years, it has been decided by others that I can no longer be as forceful as I need to be in leading the F.B.I. and carrying out my responsibilities to the bureau and the nation,  he said.  It is because I believe in the principle of an independent F.B.I. that I have refused to voluntarily resign. Mr. Clinton said that after reviewing Mr. Sessions s performance, Attorney General Janet Reno had advised him that Mr. Sessions should go.  After a thorough review by the Attorney General of Mr. Sessions s leadership of the F.B.I., she has reported to me in no uncertain terms that he can no longer effectively lead the bureau. Similarly, Mr. Trump fired Mr. Comey on the recommendation of his attorney general, Jeff Sessions. (No relation to William S. Sessions.) There are no United States statutes that discuss the president s authority to remove the F.B.I. director.   NYT s Vince Foster: What the Media Won t Tell You Major media outlets reported Wednesday on the Supreme Court hearing of California lawyer Allan Favish s case that government photographs of Vincent Foster s death scene be released for public viewing. The media report that no fewer than five investigations have found that Foster committed suicide because he was depressed. But despite 10 years of denial by the major media, the Foster case has not  closed    as the Supreme Court hearing Wednesday demonstrated. The case won t close because of the failure of authorities to make full disclosure   and to conduct a full investigation into the case, including a complete autopsy.Vince Foster was not only deputy White House counsel but also the personal attorney to Bill and Hillary Clinton.On the night of Foster s death, top Clinton aides made a frantic effort to enter and remove documents from his West Wing office. In the days that followed, federal investigators were stymied in their investigation of Foster s office and strange death.Since Foster s July 1993 death, the facts of his death have been obfuscated by friends of Bill and Hillary in the major media, but here s the undeniable truth:There weren t  five  investigations into Foster s death, as the media report. The Park Police, best known for their meter and horse patrols around Washington, were put in charge of the initial death inquiry of the most important federal official to die suspiciously since President Kennedy. The Park Police, contradicting standard procedure, declared the death a suicide before launching their inquiry.Later, Robert Fiske, selected by Clinton s counsel Bernie Nussbaum and Janet Reno, quickly confirmed the Park Police probe as a suicide.But when Ken Starr entered the investigation, he reopened the case. His chief prosecutor in the case, Miquel Rodriguez, later quit the Starr investigation, claiming that Starr s staff was engaging in a cover-up of Foster s death.Rodriguez, a Harvard-educated federal prosecutor, argued that one of the Polaroid photos taken of Foster at the crime scene indicated an additional wound on Foster s neck   never noted on the autopsy report. Favish s suit before the Supreme Court is seeking to release this photo, among others.No fewer than three of the paramedics on the scene indicated in reports or testimony that the crime scene was consistent with a murder scene, not a suicide.A careful FBI microscopic investigation of Foster s shoes found not a trace of soil or grass stains on them, though he supposedly walked several hundred yards through wooded Fort Marcy Park to where his body was found. [Years later, Starr s investigation found plenty of soil and grass stains. Rodriguez charged that the shoes were tampered with to produce such  evidence. ]According to the FBI report on Vince Foster s death (below) blonde hairs were found on the body of Vince Foster, but were never investigated:Foster was found with little blood around his body   and despite claims that he fired the gun into his mouth, practically no blood was found on the front of his shirt.Foster was found with a 1913 revolver no one in his family could claim, with two serial numbers, made from the parts of three or more guns. None of Foster s fingerprints were found on the gun.For years, detail after detail emerged questioning the official ruling.Significant questions were raised about the unusual gun   a .38 Colt revolver made from the parts of three guns with two serial numbers   found conveniently in Vince s hand.The Park Police said one of the serial numbers indicated the gun was vintage 1913   and had no pedigree.Foster family members insisted neither Foster nor his father ever owned the old revolver.The NCIC keeps records of all law enforcment inquiries of serial numbers.On March 23, 2001, the FBI responded to requests made by a man names Craig Brinkley:Serial number 356555, one of the numbers on the gun, was never searched, not by the FBI, the Park Police or by that  investigation  by Ken Starr.Serial number 355055 was found on the frame of the gun. Brinkley believes that was the gun s real nnumber.That number was indeed searched by the Park Police, on the evening of Foster s death, more exactly at 22:45 EDT on July 20, 1993.Interestingly, searches were conducted on the same serial number no fewer than three times earlier that year, before Foster s death, on March 3, March 7 and April 29.Was someone checking to see that this gun had a  clean  predigree and was untraceable?The bullet from the gun that supposedly killed Foster was never found, despite intensive searches.Despite claims to the contrary, no one who knew Foster, including Hillary, Web Hubbell and his own wife, saw signs of depression.A so-called suicide note was found in an office briefcase that had been searched and found to be empty after Foster s death. The note was torn into 27 pieces. Yet an FBI examination found no trace of Foster s fingerprints on the note and a top Oxford handwriting expert found the note to be an  obvious  forgery.Despite the enormity of the case, Foster s autopsy lasted an astounding 45 minutes. The coroner in the case had previously been overruled in other cases he declared  suicides  that were later found to be murders.All of the X-rays taken during the autopsy are missing.Complete crime scene photos don t exist. The Park Police said all the photos were  accidentally  overexposed. A series of close-up Polaroids, which Favish is suing for, remain. This is just a brief summary of the dozens of inconsistencies in the case. Two New York homicide investigators who looked into the case concluded that Foster s body had been moved to the crime scene and that murder could not be ruled out.Despite overwhelming evidence of a cover-up, the media won t question the official ruling.Ken Starr, who could find no criminal wrongdoing on the part of the Clintons during his  intensive  probe, confirmed a ruling of suicide. Starr even hired O.J. Simpson s defense expert to prove his case.On August 23, 2016, The Daily Mail revealed that FBI agents  reported interviews documenting that Hillary Clinton s stinging humiliation of her friend and mentor Vince Foster in front of White House aides triggered the suicide of Vince Foster were missing from where they should be filed at the National Archives.On the first visit, archivist David Paynter provided the box of records that he said contained the FBI reports of interviews conducted by FBI agents on Foster s death. On a second visit, archivist James Mathis provided what he said were those same documents.While the box contained dozens of FBI reports concerning Foster s death   including interviews with the medical examiner, U.S. Park Police officers, and White House aides about the contents of Foster s office    the reports on Hillary Clinton s role in his death were absent.After filing a Freedom of Information request with the National Archives, Martha Murphy, the archives  public liaison, reported that she directed a senior archivist to conduct a more thorough review of the relevant FBI files, including those that had not been previously made public in response to FOIA requests. He examined all eight boxes but found no interviews by any investigator that detail either a meeting between Hillary Clinton and Vince Foster or the effects of a meeting between Hillary Clinton and Vince Foster on Vince Foster s state of mind,  Murphy reported in an email.After firing Republican FBI Director William S. Session, President Bill Clinton temporarily replaced him with Floyd I. Clarke and then on September 1, 1993 he Louis Freeh became the FBI Director. Right from the start, the Freeh FBI was drenched in controversy. The  screw-ups  were legion from the exposure of fraudulent FBI crime lab results to the wrongful blaming of an innocent man for the bombings at the Atlanta Olympics to the bloody standoff and shootout at Ruby Ridge.\"\n        ],\n        \"semantic_type\": \"\",\n        \"description\": \"\"\n      }\n    },\n    {\n      \"column\": \"label\",\n      \"properties\": {\n        \"dtype\": \"number\",\n        \"std\": null,\n        \"min\": 0,\n        \"max\": 0,\n        \"num_unique_values\": 1,\n        \"samples\": [\n          0\n        ],\n        \"semantic_type\": \"\",\n        \"description\": \"\"\n      }\n    }\n  ]\n}"
            }
          },
          "metadata": {},
          "execution_count": 10
        }
      ],
      "source": [
        "df[df.duplicated(subset=['text'])]"
      ]
    },
    {
      "cell_type": "code",
      "execution_count": 11,
      "metadata": {
        "execution": {
          "iopub.execute_input": "2024-12-03T16:38:33.551075Z",
          "iopub.status.busy": "2024-12-03T16:38:33.550648Z",
          "iopub.status.idle": "2024-12-03T16:38:33.566173Z",
          "shell.execute_reply": "2024-12-03T16:38:33.564865Z",
          "shell.execute_reply.started": "2024-12-03T16:38:33.551033Z"
        },
        "trusted": true,
        "id": "24Rdp5MVwFYF"
      },
      "outputs": [],
      "source": [
        "df.drop_duplicates(subset=['text'], inplace=True)"
      ]
    },
    {
      "cell_type": "markdown",
      "metadata": {
        "id": "GYsiciliwFYF"
      },
      "source": [
        "## Missing values"
      ]
    },
    {
      "cell_type": "code",
      "execution_count": 12,
      "metadata": {
        "execution": {
          "iopub.execute_input": "2024-12-03T16:38:36.379252Z",
          "iopub.status.busy": "2024-12-03T16:38:36.378868Z",
          "iopub.status.idle": "2024-12-03T16:38:36.389461Z",
          "shell.execute_reply": "2024-12-03T16:38:36.388162Z",
          "shell.execute_reply.started": "2024-12-03T16:38:36.379220Z"
        },
        "trusted": true,
        "id": "sU0oCsmrwFYF"
      },
      "outputs": [],
      "source": [
        "assert df.notna().size == df.size"
      ]
    },
    {
      "cell_type": "markdown",
      "metadata": {
        "id": "qQZg2aAjwFYF"
      },
      "source": [
        "## Lowercase"
      ]
    },
    {
      "cell_type": "code",
      "execution_count": 13,
      "metadata": {
        "execution": {
          "iopub.execute_input": "2024-12-03T16:38:38.102954Z",
          "iopub.status.busy": "2024-12-03T16:38:38.102512Z",
          "iopub.status.idle": "2024-12-03T16:38:38.108536Z",
          "shell.execute_reply": "2024-12-03T16:38:38.107007Z",
          "shell.execute_reply.started": "2024-12-03T16:38:38.102914Z"
        },
        "trusted": true,
        "id": "12qbQJ0cwFYG"
      },
      "outputs": [],
      "source": [
        "def to_lower(text):\n",
        "  return text.lower()"
      ]
    },
    {
      "cell_type": "code",
      "execution_count": 14,
      "metadata": {
        "execution": {
          "iopub.execute_input": "2024-12-03T16:38:39.795457Z",
          "iopub.status.busy": "2024-12-03T16:38:39.795078Z",
          "iopub.status.idle": "2024-12-03T16:38:40.111415Z",
          "shell.execute_reply": "2024-12-03T16:38:40.110068Z",
          "shell.execute_reply.started": "2024-12-03T16:38:39.795423Z"
        },
        "trusted": true,
        "id": "GmrnbH9NwFYG"
      },
      "outputs": [],
      "source": [
        "df.text = df.text.apply(to_lower)"
      ]
    },
    {
      "cell_type": "markdown",
      "metadata": {
        "id": "LfzEQg_fwFYG"
      },
      "source": [
        "## Remove punctuation"
      ]
    },
    {
      "cell_type": "code",
      "execution_count": 15,
      "metadata": {
        "execution": {
          "iopub.execute_input": "2024-12-03T16:38:42.386467Z",
          "iopub.status.busy": "2024-12-03T16:38:42.386054Z",
          "iopub.status.idle": "2024-12-03T16:38:42.394257Z",
          "shell.execute_reply": "2024-12-03T16:38:42.393061Z",
          "shell.execute_reply.started": "2024-12-03T16:38:42.386428Z"
        },
        "trusted": true,
        "colab": {
          "base_uri": "https://localhost:8080/",
          "height": 35
        },
        "id": "V4ZYEjYJwFYG",
        "outputId": "fb826165-b6ad-4b23-d3bb-8630233dd227"
      },
      "outputs": [
        {
          "output_type": "execute_result",
          "data": {
            "text/plain": [
              "'!\"#$%&\\'()*+,-./:;<=>?@[\\\\]^_`{|}~'"
            ],
            "application/vnd.google.colaboratory.intrinsic+json": {
              "type": "string"
            }
          },
          "metadata": {},
          "execution_count": 15
        }
      ],
      "source": [
        "import string\n",
        "string.punctuation"
      ]
    },
    {
      "cell_type": "code",
      "execution_count": 16,
      "metadata": {
        "execution": {
          "iopub.execute_input": "2024-12-03T16:38:44.105288Z",
          "iopub.status.busy": "2024-12-03T16:38:44.104428Z",
          "iopub.status.idle": "2024-12-03T16:38:44.110624Z",
          "shell.execute_reply": "2024-12-03T16:38:44.109209Z",
          "shell.execute_reply.started": "2024-12-03T16:38:44.105242Z"
        },
        "trusted": true,
        "id": "OThVcIYAwFYG"
      },
      "outputs": [],
      "source": [
        "def remove_punct(text):\n",
        "  return \"\".join([symbol for symbol in text if symbol not in string.punctuation])"
      ]
    },
    {
      "cell_type": "code",
      "execution_count": 17,
      "metadata": {
        "execution": {
          "iopub.execute_input": "2024-12-03T16:38:46.541094Z",
          "iopub.status.busy": "2024-12-03T16:38:46.540680Z",
          "iopub.status.idle": "2024-12-03T16:38:46.548985Z",
          "shell.execute_reply": "2024-12-03T16:38:46.547705Z",
          "shell.execute_reply.started": "2024-12-03T16:38:46.541047Z"
        },
        "trusted": true,
        "colab": {
          "base_uri": "https://localhost:8080/",
          "height": 232
        },
        "id": "1VXC0HymwFYG",
        "outputId": "2de7d072-37f2-4dae-aebb-b7ccb0625acd"
      },
      "outputs": [
        {
          "output_type": "execute_result",
          "data": {
            "text/plain": [
              "'ramallah, west bank (reuters) - palestinians switched off christmas lights at jesus  traditional birthplace in bethlehem on wednesday night in protest at u.s. president donald trump s decision to recognize jerusalem as israel s capital. a christmas tree adorned with lights outside bethlehem s church of the nativity, where christians believe jesus was born, and another in ramallah, next to the burial site of former palestinian leader yasser arafat, were plunged into darkness.  the christmas tree was switched off on the order of the mayor today in protest at trump s decision,  said fady ghattas, bethlehem s municipal media officer.  he said it was unclear whether the illuminations would be turned on again before the main christmas festivities. in a speech in washington, trump said he had decided to recognize jerusalem as israel s capital and move the u.s. embassy to the city. israeli prime minister benjamin netanyahu said trump s move  marked the beginning of a new approach to the israeli-palestinian conflict and said it was an  historic landmark . arabs and muslims across the middle east condemned the u.s. decision, calling it an incendiary move in a volatile region and the european union and united nations also voiced alarm at the possible repercussions for any chances of reviving israeli-palestinian peacemaking. '"
            ],
            "application/vnd.google.colaboratory.intrinsic+json": {
              "type": "string"
            }
          },
          "metadata": {},
          "execution_count": 17
        }
      ],
      "source": [
        "df.text[0]"
      ]
    },
    {
      "cell_type": "code",
      "execution_count": 18,
      "metadata": {
        "execution": {
          "iopub.execute_input": "2024-12-03T16:38:49.767050Z",
          "iopub.status.busy": "2024-12-03T16:38:49.766646Z",
          "iopub.status.idle": "2024-12-03T16:38:49.774782Z",
          "shell.execute_reply": "2024-12-03T16:38:49.773507Z",
          "shell.execute_reply.started": "2024-12-03T16:38:49.767008Z"
        },
        "trusted": true,
        "colab": {
          "base_uri": "https://localhost:8080/",
          "height": 232
        },
        "id": "O7TfZdoNwFYG",
        "outputId": "e5fbebd7-ff61-4367-8174-5842679ccd09"
      },
      "outputs": [
        {
          "output_type": "execute_result",
          "data": {
            "text/plain": [
              "'ramallah west bank reuters  palestinians switched off christmas lights at jesus  traditional birthplace in bethlehem on wednesday night in protest at us president donald trump s decision to recognize jerusalem as israel s capital a christmas tree adorned with lights outside bethlehem s church of the nativity where christians believe jesus was born and another in ramallah next to the burial site of former palestinian leader yasser arafat were plunged into darkness  the christmas tree was switched off on the order of the mayor today in protest at trump s decision  said fady ghattas bethlehem s municipal media officer  he said it was unclear whether the illuminations would be turned on again before the main christmas festivities in a speech in washington trump said he had decided to recognize jerusalem as israel s capital and move the us embassy to the city israeli prime minister benjamin netanyahu said trump s move  marked the beginning of a new approach to the israelipalestinian conflict and said it was an  historic landmark  arabs and muslims across the middle east condemned the us decision calling it an incendiary move in a volatile region and the european union and united nations also voiced alarm at the possible repercussions for any chances of reviving israelipalestinian peacemaking '"
            ],
            "application/vnd.google.colaboratory.intrinsic+json": {
              "type": "string"
            }
          },
          "metadata": {},
          "execution_count": 18
        }
      ],
      "source": [
        "remove_punct(df.text[0])"
      ]
    },
    {
      "cell_type": "code",
      "execution_count": 19,
      "metadata": {
        "execution": {
          "iopub.execute_input": "2024-12-03T16:38:50.912337Z",
          "iopub.status.busy": "2024-12-03T16:38:50.911907Z",
          "iopub.status.idle": "2024-12-03T16:38:56.966818Z",
          "shell.execute_reply": "2024-12-03T16:38:56.965579Z",
          "shell.execute_reply.started": "2024-12-03T16:38:50.912297Z"
        },
        "trusted": true,
        "id": "j_AALMw6wFYG"
      },
      "outputs": [],
      "source": [
        "df.text = df.text.apply(remove_punct)"
      ]
    },
    {
      "cell_type": "markdown",
      "metadata": {
        "id": "qIxh2iHowFYG"
      },
      "source": [
        "## Tokenization"
      ]
    },
    {
      "cell_type": "code",
      "execution_count": 20,
      "metadata": {
        "execution": {
          "iopub.execute_input": "2024-12-03T16:39:01.027789Z",
          "iopub.status.busy": "2024-12-03T16:39:01.026987Z",
          "iopub.status.idle": "2024-12-03T16:39:01.037182Z",
          "shell.execute_reply": "2024-12-03T16:39:01.035175Z",
          "shell.execute_reply.started": "2024-12-03T16:39:01.027734Z"
        },
        "trusted": true,
        "colab": {
          "base_uri": "https://localhost:8080/"
        },
        "id": "ETWCa0R8wFYG",
        "outputId": "f724a8ac-cf67-4f64-f4ed-6319c4cf4347"
      },
      "outputs": [
        {
          "output_type": "execute_result",
          "data": {
            "text/plain": [
              "['hello', 'world']"
            ]
          },
          "metadata": {},
          "execution_count": 20
        }
      ],
      "source": [
        "import re\n",
        "\n",
        "def tokenize(text):\n",
        "  return re.split(\"\\W+\", text)\n",
        "\n",
        "tokenize(\"hello world\")"
      ]
    },
    {
      "cell_type": "code",
      "execution_count": 21,
      "metadata": {
        "_kg_hide-output": true,
        "execution": {
          "iopub.execute_input": "2024-12-03T16:39:02.935818Z",
          "iopub.status.busy": "2024-12-03T16:39:02.935354Z",
          "iopub.status.idle": "2024-12-03T16:39:07.937034Z",
          "shell.execute_reply": "2024-12-03T16:39:07.935910Z",
          "shell.execute_reply.started": "2024-12-03T16:39:02.935780Z"
        },
        "trusted": true,
        "id": "zYJabUl2wFYG"
      },
      "outputs": [],
      "source": [
        "df.text = df.text.apply(tokenize)"
      ]
    },
    {
      "cell_type": "markdown",
      "metadata": {
        "id": "tos4ERp-wFYH"
      },
      "source": [
        "## Stopwords"
      ]
    },
    {
      "cell_type": "code",
      "execution_count": 22,
      "metadata": {
        "execution": {
          "iopub.execute_input": "2024-12-03T16:39:07.940246Z",
          "iopub.status.busy": "2024-12-03T16:39:07.939907Z",
          "iopub.status.idle": "2024-12-03T16:39:08.008569Z",
          "shell.execute_reply": "2024-12-03T16:39:08.007376Z",
          "shell.execute_reply.started": "2024-12-03T16:39:07.940216Z"
        },
        "trusted": true,
        "colab": {
          "base_uri": "https://localhost:8080/"
        },
        "id": "1YVT8WV-wFYH",
        "outputId": "3a0100f9-1b2f-4a5e-b149-dbfc36ee37a4"
      },
      "outputs": [
        {
          "output_type": "stream",
          "name": "stderr",
          "text": [
            "[nltk_data] Downloading package stopwords to /root/nltk_data...\n",
            "[nltk_data]   Package stopwords is already up-to-date!\n",
            "[nltk_data] Downloading package wordnet to /root/nltk_data...\n",
            "[nltk_data]   Package wordnet is already up-to-date!\n",
            "[nltk_data] Downloading package omw-1.4 to /root/nltk_data...\n",
            "[nltk_data]   Package omw-1.4 is already up-to-date!\n"
          ]
        }
      ],
      "source": [
        "import nltk\n",
        "\n",
        "nltk.download('stopwords')\n",
        "nltk.download('wordnet')\n",
        "nltk.download('omw-1.4')\n",
        "\n",
        "stopwords = nltk.corpus.stopwords.words('english')"
      ]
    },
    {
      "cell_type": "code",
      "execution_count": 23,
      "metadata": {
        "execution": {
          "iopub.execute_input": "2024-12-03T16:39:08.853354Z",
          "iopub.status.busy": "2024-12-03T16:39:08.852809Z",
          "iopub.status.idle": "2024-12-03T16:39:08.863467Z",
          "shell.execute_reply": "2024-12-03T16:39:08.861944Z",
          "shell.execute_reply.started": "2024-12-03T16:39:08.853297Z"
        },
        "trusted": true,
        "colab": {
          "base_uri": "https://localhost:8080/"
        },
        "id": "b7fhRoWOwFYH",
        "outputId": "fb09dd36-731e-4e7b-aeb3-1422ff6d6de2"
      },
      "outputs": [
        {
          "output_type": "stream",
          "name": "stdout",
          "text": [
            "['hello', 'i', 'am', 'really', 'happy', 'that', 'you', 'will', 'go', 'with', 'me']\n",
            "['hello', 'really', 'happy', 'go']\n"
          ]
        }
      ],
      "source": [
        "def remove_stopwords(sentence):\n",
        "  return [word for word in sentence if word not in stopwords]\n",
        "\n",
        "example = \"Hello I am really happy that you will go with me\".lower().split(\" \")\n",
        "result = remove_stopwords(example)\n",
        "\n",
        "print(example)\n",
        "print(result)"
      ]
    },
    {
      "cell_type": "code",
      "execution_count": 24,
      "metadata": {
        "execution": {
          "iopub.execute_input": "2024-12-03T16:39:12.284738Z",
          "iopub.status.busy": "2024-12-03T16:39:12.284313Z",
          "iopub.status.idle": "2024-12-03T16:39:31.936768Z",
          "shell.execute_reply": "2024-12-03T16:39:31.935519Z",
          "shell.execute_reply.started": "2024-12-03T16:39:12.284701Z"
        },
        "trusted": true,
        "id": "gHEfTPziwFYH"
      },
      "outputs": [],
      "source": [
        "df.text = df.text.apply(remove_stopwords)"
      ]
    },
    {
      "cell_type": "markdown",
      "metadata": {
        "id": "0ZRB1IZFwFYH"
      },
      "source": [
        "## Stemming"
      ]
    },
    {
      "cell_type": "code",
      "execution_count": 25,
      "metadata": {
        "execution": {
          "iopub.execute_input": "2024-12-03T11:45:33.561547Z",
          "iopub.status.busy": "2024-12-03T11:45:33.561108Z",
          "iopub.status.idle": "2024-12-03T11:45:33.573907Z",
          "shell.execute_reply": "2024-12-03T11:45:33.569908Z",
          "shell.execute_reply.started": "2024-12-03T11:45:33.561507Z"
        },
        "trusted": true,
        "colab": {
          "base_uri": "https://localhost:8080/"
        },
        "id": "RM1rO41lwFYH",
        "outputId": "a3414e0c-bf28-42f1-9f04-915b623ff391"
      },
      "outputs": [
        {
          "output_type": "stream",
          "name": "stdout",
          "text": [
            "grow\n",
            "grow\n",
            "grow\n"
          ]
        }
      ],
      "source": [
        "ps = nltk.PorterStemmer()\n",
        "\n",
        "print(ps.stem(\"grows\"))\n",
        "print(ps.stem(\"growing\"))\n",
        "print(ps.stem(\"grow\"))"
      ]
    },
    {
      "cell_type": "code",
      "execution_count": 26,
      "metadata": {
        "execution": {
          "iopub.execute_input": "2024-12-03T11:45:33.577859Z",
          "iopub.status.busy": "2024-12-03T11:45:33.576509Z",
          "iopub.status.idle": "2024-12-03T11:45:33.594937Z",
          "shell.execute_reply": "2024-12-03T11:45:33.592785Z",
          "shell.execute_reply.started": "2024-12-03T11:45:33.577684Z"
        },
        "trusted": true,
        "id": "xqmO3yXuwFYH"
      },
      "outputs": [],
      "source": [
        "def stemm_word(tokenized_text):\n",
        "  return [ps.stem(word) for word in tokenized_text]"
      ]
    },
    {
      "cell_type": "code",
      "execution_count": 27,
      "metadata": {
        "_kg_hide-output": true,
        "trusted": true,
        "colab": {
          "base_uri": "https://localhost:8080/"
        },
        "id": "5c-ZCeWpwFYH",
        "outputId": "6f0e449f-1205-4c31-bca4-d490c25547f5"
      },
      "outputs": [
        {
          "output_type": "execute_result",
          "data": {
            "text/plain": [
              "['ramallah',\n",
              " 'west',\n",
              " 'bank',\n",
              " 'reuter',\n",
              " 'palestinian',\n",
              " 'switch',\n",
              " 'christma',\n",
              " 'light',\n",
              " 'jesu',\n",
              " 'tradit',\n",
              " 'birthplac',\n",
              " 'bethlehem',\n",
              " 'wednesday',\n",
              " 'night',\n",
              " 'protest',\n",
              " 'us',\n",
              " 'presid',\n",
              " 'donald',\n",
              " 'trump',\n",
              " 'decis',\n",
              " 'recogn',\n",
              " 'jerusalem',\n",
              " 'israel',\n",
              " 'capit',\n",
              " 'christma',\n",
              " 'tree',\n",
              " 'adorn',\n",
              " 'light',\n",
              " 'outsid',\n",
              " 'bethlehem',\n",
              " 'church',\n",
              " 'nativ',\n",
              " 'christian',\n",
              " 'believ',\n",
              " 'jesu',\n",
              " 'born',\n",
              " 'anoth',\n",
              " 'ramallah',\n",
              " 'next',\n",
              " 'burial',\n",
              " 'site',\n",
              " 'former',\n",
              " 'palestinian',\n",
              " 'leader',\n",
              " 'yasser',\n",
              " 'arafat',\n",
              " 'plung',\n",
              " 'dark',\n",
              " 'christma',\n",
              " 'tree',\n",
              " 'switch',\n",
              " 'order',\n",
              " 'mayor',\n",
              " 'today',\n",
              " 'protest',\n",
              " 'trump',\n",
              " 'decis',\n",
              " 'said',\n",
              " 'fadi',\n",
              " 'ghatta',\n",
              " 'bethlehem',\n",
              " 'municip',\n",
              " 'media',\n",
              " 'offic',\n",
              " 'said',\n",
              " 'unclear',\n",
              " 'whether',\n",
              " 'illumin',\n",
              " 'would',\n",
              " 'turn',\n",
              " 'main',\n",
              " 'christma',\n",
              " 'festiv',\n",
              " 'speech',\n",
              " 'washington',\n",
              " 'trump',\n",
              " 'said',\n",
              " 'decid',\n",
              " 'recogn',\n",
              " 'jerusalem',\n",
              " 'israel',\n",
              " 'capit',\n",
              " 'move',\n",
              " 'us',\n",
              " 'embassi',\n",
              " 'citi',\n",
              " 'isra',\n",
              " 'prime',\n",
              " 'minist',\n",
              " 'benjamin',\n",
              " 'netanyahu',\n",
              " 'said',\n",
              " 'trump',\n",
              " 'move',\n",
              " 'mark',\n",
              " 'begin',\n",
              " 'new',\n",
              " 'approach',\n",
              " 'israelipalestinian',\n",
              " 'conflict',\n",
              " 'said',\n",
              " 'histor',\n",
              " 'landmark',\n",
              " 'arab',\n",
              " 'muslim',\n",
              " 'across',\n",
              " 'middl',\n",
              " 'east',\n",
              " 'condemn',\n",
              " 'us',\n",
              " 'decis',\n",
              " 'call',\n",
              " 'incendiari',\n",
              " 'move',\n",
              " 'volatil',\n",
              " 'region',\n",
              " 'european',\n",
              " 'union',\n",
              " 'unit',\n",
              " 'nation',\n",
              " 'also',\n",
              " 'voic',\n",
              " 'alarm',\n",
              " 'possibl',\n",
              " 'repercuss',\n",
              " 'chanc',\n",
              " 'reviv',\n",
              " 'israelipalestinian',\n",
              " 'peacemak',\n",
              " '']"
            ]
          },
          "metadata": {},
          "execution_count": 27
        }
      ],
      "source": [
        "df.text = df.text.apply(stemm_word)\n",
        "df.text[0]"
      ]
    },
    {
      "cell_type": "markdown",
      "metadata": {
        "id": "4cRMk98KwFYS"
      },
      "source": [
        "## Vectorization"
      ]
    },
    {
      "cell_type": "code",
      "execution_count": 28,
      "metadata": {
        "execution": {
          "iopub.execute_input": "2024-12-03T13:07:59.918814Z",
          "iopub.status.busy": "2024-12-03T13:07:59.918409Z",
          "iopub.status.idle": "2024-12-03T13:07:59.924150Z",
          "shell.execute_reply": "2024-12-03T13:07:59.922966Z",
          "shell.execute_reply.started": "2024-12-03T13:07:59.918782Z"
        },
        "trusted": true,
        "id": "uSQEuBKswFYS"
      },
      "outputs": [],
      "source": [
        "from sklearn.feature_extraction.text import TfidfVectorizer"
      ]
    },
    {
      "cell_type": "code",
      "execution_count": 29,
      "metadata": {
        "execution": {
          "iopub.execute_input": "2024-12-03T11:47:33.875760Z",
          "iopub.status.busy": "2024-12-03T11:47:33.875431Z",
          "iopub.status.idle": "2024-12-03T11:47:34.333872Z",
          "shell.execute_reply": "2024-12-03T11:47:34.332681Z",
          "shell.execute_reply.started": "2024-12-03T11:47:33.875724Z"
        },
        "trusted": true,
        "id": "ehOSdhn1wFYS"
      },
      "outputs": [],
      "source": [
        "df.text = df.text.apply(lambda x: \" \".join(x))"
      ]
    },
    {
      "cell_type": "code",
      "execution_count": 30,
      "metadata": {
        "execution": {
          "iopub.execute_input": "2024-12-03T11:47:34.336474Z",
          "iopub.status.busy": "2024-12-03T11:47:34.336022Z",
          "iopub.status.idle": "2024-12-03T11:47:57.726366Z",
          "shell.execute_reply": "2024-12-03T11:47:57.724969Z",
          "shell.execute_reply.started": "2024-12-03T11:47:34.336433Z"
        },
        "trusted": true,
        "colab": {
          "base_uri": "https://localhost:8080/",
          "height": 444
        },
        "id": "HzKM8mIRwFYS",
        "outputId": "49dd03aa-5114-47ae-c5be-23f1390a2aad"
      },
      "outputs": [
        {
          "output_type": "execute_result",
          "data": {
            "text/plain": [
              "        00  000  0000  000000017  000004  000048  000063sz  00007  00009  \\\n",
              "0      0.0  0.0   0.0        0.0     0.0     0.0       0.0    0.0    0.0   \n",
              "1      0.0  0.0   0.0        0.0     0.0     0.0       0.0    0.0    0.0   \n",
              "2      0.0  0.0   0.0        0.0     0.0     0.0       0.0    0.0    0.0   \n",
              "3      0.0  0.0   0.0        0.0     0.0     0.0       0.0    0.0    0.0   \n",
              "4      0.0  0.0   0.0        0.0     0.0     0.0       0.0    0.0    0.0   \n",
              "...    ...  ...   ...        ...     ...     ...       ...    ...    ...   \n",
              "24347  0.0  0.0   0.0        0.0     0.0     0.0       0.0    0.0    0.0   \n",
              "24348  0.0  0.0   0.0        0.0     0.0     0.0       0.0    0.0    0.0   \n",
              "24349  0.0  0.0   0.0        0.0     0.0     0.0       0.0    0.0    0.0   \n",
              "24350  0.0  0.0   0.0        0.0     0.0     0.0       0.0    0.0    0.0   \n",
              "24351  0.0  0.0   0.0        0.0     0.0     0.0       0.0    0.0    0.0   \n",
              "\n",
              "       0001  ...  überraschend  überrascht  überreden  überreicht  \\\n",
              "0       0.0  ...           0.0         0.0        0.0         0.0   \n",
              "1       0.0  ...           0.0         0.0        0.0         0.0   \n",
              "2       0.0  ...           0.0         0.0        0.0         0.0   \n",
              "3       0.0  ...           0.0         0.0        0.0         0.0   \n",
              "4       0.0  ...           0.0         0.0        0.0         0.0   \n",
              "...     ...  ...           ...         ...        ...         ...   \n",
              "24347   0.0  ...           0.0         0.0        0.0         0.0   \n",
              "24348   0.0  ...           0.0         0.0        0.0         0.0   \n",
              "24349   0.0  ...           0.0         0.0        0.0         0.0   \n",
              "24350   0.0  ...           0.0         0.0        0.0         0.0   \n",
              "24351   0.0  ...           0.0         0.0        0.0         0.0   \n",
              "\n",
              "       überschwänglich  übertrieben  überwacht  überwachungskamera  übrig  \\\n",
              "0                  0.0          0.0        0.0                 0.0    0.0   \n",
              "1                  0.0          0.0        0.0                 0.0    0.0   \n",
              "2                  0.0          0.0        0.0                 0.0    0.0   \n",
              "3                  0.0          0.0        0.0                 0.0    0.0   \n",
              "4                  0.0          0.0        0.0                 0.0    0.0   \n",
              "...                ...          ...        ...                 ...    ...   \n",
              "24347              0.0          0.0        0.0                 0.0    0.0   \n",
              "24348              0.0          0.0        0.0                 0.0    0.0   \n",
              "24349              0.0          0.0        0.0                 0.0    0.0   \n",
              "24350              0.0          0.0        0.0                 0.0    0.0   \n",
              "24351              0.0          0.0        0.0                 0.0    0.0   \n",
              "\n",
              "       übte  \n",
              "0       0.0  \n",
              "1       0.0  \n",
              "2       0.0  \n",
              "3       0.0  \n",
              "4       0.0  \n",
              "...     ...  \n",
              "24347   0.0  \n",
              "24348   0.0  \n",
              "24349   0.0  \n",
              "24350   0.0  \n",
              "24351   0.0  \n",
              "\n",
              "[24352 rows x 149439 columns]"
            ],
            "text/html": [
              "\n",
              "  <div id=\"df-d20be12b-a009-48a4-b701-27ab565b7406\" class=\"colab-df-container\">\n",
              "    <div>\n",
              "<style scoped>\n",
              "    .dataframe tbody tr th:only-of-type {\n",
              "        vertical-align: middle;\n",
              "    }\n",
              "\n",
              "    .dataframe tbody tr th {\n",
              "        vertical-align: top;\n",
              "    }\n",
              "\n",
              "    .dataframe thead th {\n",
              "        text-align: right;\n",
              "    }\n",
              "</style>\n",
              "<table border=\"1\" class=\"dataframe\">\n",
              "  <thead>\n",
              "    <tr style=\"text-align: right;\">\n",
              "      <th></th>\n",
              "      <th>00</th>\n",
              "      <th>000</th>\n",
              "      <th>0000</th>\n",
              "      <th>000000017</th>\n",
              "      <th>000004</th>\n",
              "      <th>000048</th>\n",
              "      <th>000063sz</th>\n",
              "      <th>00007</th>\n",
              "      <th>00009</th>\n",
              "      <th>0001</th>\n",
              "      <th>...</th>\n",
              "      <th>überraschend</th>\n",
              "      <th>überrascht</th>\n",
              "      <th>überreden</th>\n",
              "      <th>überreicht</th>\n",
              "      <th>überschwänglich</th>\n",
              "      <th>übertrieben</th>\n",
              "      <th>überwacht</th>\n",
              "      <th>überwachungskamera</th>\n",
              "      <th>übrig</th>\n",
              "      <th>übte</th>\n",
              "    </tr>\n",
              "  </thead>\n",
              "  <tbody>\n",
              "    <tr>\n",
              "      <th>0</th>\n",
              "      <td>0.0</td>\n",
              "      <td>0.0</td>\n",
              "      <td>0.0</td>\n",
              "      <td>0.0</td>\n",
              "      <td>0.0</td>\n",
              "      <td>0.0</td>\n",
              "      <td>0.0</td>\n",
              "      <td>0.0</td>\n",
              "      <td>0.0</td>\n",
              "      <td>0.0</td>\n",
              "      <td>...</td>\n",
              "      <td>0.0</td>\n",
              "      <td>0.0</td>\n",
              "      <td>0.0</td>\n",
              "      <td>0.0</td>\n",
              "      <td>0.0</td>\n",
              "      <td>0.0</td>\n",
              "      <td>0.0</td>\n",
              "      <td>0.0</td>\n",
              "      <td>0.0</td>\n",
              "      <td>0.0</td>\n",
              "    </tr>\n",
              "    <tr>\n",
              "      <th>1</th>\n",
              "      <td>0.0</td>\n",
              "      <td>0.0</td>\n",
              "      <td>0.0</td>\n",
              "      <td>0.0</td>\n",
              "      <td>0.0</td>\n",
              "      <td>0.0</td>\n",
              "      <td>0.0</td>\n",
              "      <td>0.0</td>\n",
              "      <td>0.0</td>\n",
              "      <td>0.0</td>\n",
              "      <td>...</td>\n",
              "      <td>0.0</td>\n",
              "      <td>0.0</td>\n",
              "      <td>0.0</td>\n",
              "      <td>0.0</td>\n",
              "      <td>0.0</td>\n",
              "      <td>0.0</td>\n",
              "      <td>0.0</td>\n",
              "      <td>0.0</td>\n",
              "      <td>0.0</td>\n",
              "      <td>0.0</td>\n",
              "    </tr>\n",
              "    <tr>\n",
              "      <th>2</th>\n",
              "      <td>0.0</td>\n",
              "      <td>0.0</td>\n",
              "      <td>0.0</td>\n",
              "      <td>0.0</td>\n",
              "      <td>0.0</td>\n",
              "      <td>0.0</td>\n",
              "      <td>0.0</td>\n",
              "      <td>0.0</td>\n",
              "      <td>0.0</td>\n",
              "      <td>0.0</td>\n",
              "      <td>...</td>\n",
              "      <td>0.0</td>\n",
              "      <td>0.0</td>\n",
              "      <td>0.0</td>\n",
              "      <td>0.0</td>\n",
              "      <td>0.0</td>\n",
              "      <td>0.0</td>\n",
              "      <td>0.0</td>\n",
              "      <td>0.0</td>\n",
              "      <td>0.0</td>\n",
              "      <td>0.0</td>\n",
              "    </tr>\n",
              "    <tr>\n",
              "      <th>3</th>\n",
              "      <td>0.0</td>\n",
              "      <td>0.0</td>\n",
              "      <td>0.0</td>\n",
              "      <td>0.0</td>\n",
              "      <td>0.0</td>\n",
              "      <td>0.0</td>\n",
              "      <td>0.0</td>\n",
              "      <td>0.0</td>\n",
              "      <td>0.0</td>\n",
              "      <td>0.0</td>\n",
              "      <td>...</td>\n",
              "      <td>0.0</td>\n",
              "      <td>0.0</td>\n",
              "      <td>0.0</td>\n",
              "      <td>0.0</td>\n",
              "      <td>0.0</td>\n",
              "      <td>0.0</td>\n",
              "      <td>0.0</td>\n",
              "      <td>0.0</td>\n",
              "      <td>0.0</td>\n",
              "      <td>0.0</td>\n",
              "    </tr>\n",
              "    <tr>\n",
              "      <th>4</th>\n",
              "      <td>0.0</td>\n",
              "      <td>0.0</td>\n",
              "      <td>0.0</td>\n",
              "      <td>0.0</td>\n",
              "      <td>0.0</td>\n",
              "      <td>0.0</td>\n",
              "      <td>0.0</td>\n",
              "      <td>0.0</td>\n",
              "      <td>0.0</td>\n",
              "      <td>0.0</td>\n",
              "      <td>...</td>\n",
              "      <td>0.0</td>\n",
              "      <td>0.0</td>\n",
              "      <td>0.0</td>\n",
              "      <td>0.0</td>\n",
              "      <td>0.0</td>\n",
              "      <td>0.0</td>\n",
              "      <td>0.0</td>\n",
              "      <td>0.0</td>\n",
              "      <td>0.0</td>\n",
              "      <td>0.0</td>\n",
              "    </tr>\n",
              "    <tr>\n",
              "      <th>...</th>\n",
              "      <td>...</td>\n",
              "      <td>...</td>\n",
              "      <td>...</td>\n",
              "      <td>...</td>\n",
              "      <td>...</td>\n",
              "      <td>...</td>\n",
              "      <td>...</td>\n",
              "      <td>...</td>\n",
              "      <td>...</td>\n",
              "      <td>...</td>\n",
              "      <td>...</td>\n",
              "      <td>...</td>\n",
              "      <td>...</td>\n",
              "      <td>...</td>\n",
              "      <td>...</td>\n",
              "      <td>...</td>\n",
              "      <td>...</td>\n",
              "      <td>...</td>\n",
              "      <td>...</td>\n",
              "      <td>...</td>\n",
              "      <td>...</td>\n",
              "    </tr>\n",
              "    <tr>\n",
              "      <th>24347</th>\n",
              "      <td>0.0</td>\n",
              "      <td>0.0</td>\n",
              "      <td>0.0</td>\n",
              "      <td>0.0</td>\n",
              "      <td>0.0</td>\n",
              "      <td>0.0</td>\n",
              "      <td>0.0</td>\n",
              "      <td>0.0</td>\n",
              "      <td>0.0</td>\n",
              "      <td>0.0</td>\n",
              "      <td>...</td>\n",
              "      <td>0.0</td>\n",
              "      <td>0.0</td>\n",
              "      <td>0.0</td>\n",
              "      <td>0.0</td>\n",
              "      <td>0.0</td>\n",
              "      <td>0.0</td>\n",
              "      <td>0.0</td>\n",
              "      <td>0.0</td>\n",
              "      <td>0.0</td>\n",
              "      <td>0.0</td>\n",
              "    </tr>\n",
              "    <tr>\n",
              "      <th>24348</th>\n",
              "      <td>0.0</td>\n",
              "      <td>0.0</td>\n",
              "      <td>0.0</td>\n",
              "      <td>0.0</td>\n",
              "      <td>0.0</td>\n",
              "      <td>0.0</td>\n",
              "      <td>0.0</td>\n",
              "      <td>0.0</td>\n",
              "      <td>0.0</td>\n",
              "      <td>0.0</td>\n",
              "      <td>...</td>\n",
              "      <td>0.0</td>\n",
              "      <td>0.0</td>\n",
              "      <td>0.0</td>\n",
              "      <td>0.0</td>\n",
              "      <td>0.0</td>\n",
              "      <td>0.0</td>\n",
              "      <td>0.0</td>\n",
              "      <td>0.0</td>\n",
              "      <td>0.0</td>\n",
              "      <td>0.0</td>\n",
              "    </tr>\n",
              "    <tr>\n",
              "      <th>24349</th>\n",
              "      <td>0.0</td>\n",
              "      <td>0.0</td>\n",
              "      <td>0.0</td>\n",
              "      <td>0.0</td>\n",
              "      <td>0.0</td>\n",
              "      <td>0.0</td>\n",
              "      <td>0.0</td>\n",
              "      <td>0.0</td>\n",
              "      <td>0.0</td>\n",
              "      <td>0.0</td>\n",
              "      <td>...</td>\n",
              "      <td>0.0</td>\n",
              "      <td>0.0</td>\n",
              "      <td>0.0</td>\n",
              "      <td>0.0</td>\n",
              "      <td>0.0</td>\n",
              "      <td>0.0</td>\n",
              "      <td>0.0</td>\n",
              "      <td>0.0</td>\n",
              "      <td>0.0</td>\n",
              "      <td>0.0</td>\n",
              "    </tr>\n",
              "    <tr>\n",
              "      <th>24350</th>\n",
              "      <td>0.0</td>\n",
              "      <td>0.0</td>\n",
              "      <td>0.0</td>\n",
              "      <td>0.0</td>\n",
              "      <td>0.0</td>\n",
              "      <td>0.0</td>\n",
              "      <td>0.0</td>\n",
              "      <td>0.0</td>\n",
              "      <td>0.0</td>\n",
              "      <td>0.0</td>\n",
              "      <td>...</td>\n",
              "      <td>0.0</td>\n",
              "      <td>0.0</td>\n",
              "      <td>0.0</td>\n",
              "      <td>0.0</td>\n",
              "      <td>0.0</td>\n",
              "      <td>0.0</td>\n",
              "      <td>0.0</td>\n",
              "      <td>0.0</td>\n",
              "      <td>0.0</td>\n",
              "      <td>0.0</td>\n",
              "    </tr>\n",
              "    <tr>\n",
              "      <th>24351</th>\n",
              "      <td>0.0</td>\n",
              "      <td>0.0</td>\n",
              "      <td>0.0</td>\n",
              "      <td>0.0</td>\n",
              "      <td>0.0</td>\n",
              "      <td>0.0</td>\n",
              "      <td>0.0</td>\n",
              "      <td>0.0</td>\n",
              "      <td>0.0</td>\n",
              "      <td>0.0</td>\n",
              "      <td>...</td>\n",
              "      <td>0.0</td>\n",
              "      <td>0.0</td>\n",
              "      <td>0.0</td>\n",
              "      <td>0.0</td>\n",
              "      <td>0.0</td>\n",
              "      <td>0.0</td>\n",
              "      <td>0.0</td>\n",
              "      <td>0.0</td>\n",
              "      <td>0.0</td>\n",
              "      <td>0.0</td>\n",
              "    </tr>\n",
              "  </tbody>\n",
              "</table>\n",
              "<p>24352 rows × 149439 columns</p>\n",
              "</div>\n",
              "    <div class=\"colab-df-buttons\">\n",
              "\n",
              "  <div class=\"colab-df-container\">\n",
              "    <button class=\"colab-df-convert\" onclick=\"convertToInteractive('df-d20be12b-a009-48a4-b701-27ab565b7406')\"\n",
              "            title=\"Convert this dataframe to an interactive table.\"\n",
              "            style=\"display:none;\">\n",
              "\n",
              "  <svg xmlns=\"http://www.w3.org/2000/svg\" height=\"24px\" viewBox=\"0 -960 960 960\">\n",
              "    <path d=\"M120-120v-720h720v720H120Zm60-500h600v-160H180v160Zm220 220h160v-160H400v160Zm0 220h160v-160H400v160ZM180-400h160v-160H180v160Zm440 0h160v-160H620v160ZM180-180h160v-160H180v160Zm440 0h160v-160H620v160Z\"/>\n",
              "  </svg>\n",
              "    </button>\n",
              "\n",
              "  <style>\n",
              "    .colab-df-container {\n",
              "      display:flex;\n",
              "      gap: 12px;\n",
              "    }\n",
              "\n",
              "    .colab-df-convert {\n",
              "      background-color: #E8F0FE;\n",
              "      border: none;\n",
              "      border-radius: 50%;\n",
              "      cursor: pointer;\n",
              "      display: none;\n",
              "      fill: #1967D2;\n",
              "      height: 32px;\n",
              "      padding: 0 0 0 0;\n",
              "      width: 32px;\n",
              "    }\n",
              "\n",
              "    .colab-df-convert:hover {\n",
              "      background-color: #E2EBFA;\n",
              "      box-shadow: 0px 1px 2px rgba(60, 64, 67, 0.3), 0px 1px 3px 1px rgba(60, 64, 67, 0.15);\n",
              "      fill: #174EA6;\n",
              "    }\n",
              "\n",
              "    .colab-df-buttons div {\n",
              "      margin-bottom: 4px;\n",
              "    }\n",
              "\n",
              "    [theme=dark] .colab-df-convert {\n",
              "      background-color: #3B4455;\n",
              "      fill: #D2E3FC;\n",
              "    }\n",
              "\n",
              "    [theme=dark] .colab-df-convert:hover {\n",
              "      background-color: #434B5C;\n",
              "      box-shadow: 0px 1px 3px 1px rgba(0, 0, 0, 0.15);\n",
              "      filter: drop-shadow(0px 1px 2px rgba(0, 0, 0, 0.3));\n",
              "      fill: #FFFFFF;\n",
              "    }\n",
              "  </style>\n",
              "\n",
              "    <script>\n",
              "      const buttonEl =\n",
              "        document.querySelector('#df-d20be12b-a009-48a4-b701-27ab565b7406 button.colab-df-convert');\n",
              "      buttonEl.style.display =\n",
              "        google.colab.kernel.accessAllowed ? 'block' : 'none';\n",
              "\n",
              "      async function convertToInteractive(key) {\n",
              "        const element = document.querySelector('#df-d20be12b-a009-48a4-b701-27ab565b7406');\n",
              "        const dataTable =\n",
              "          await google.colab.kernel.invokeFunction('convertToInteractive',\n",
              "                                                    [key], {});\n",
              "        if (!dataTable) return;\n",
              "\n",
              "        const docLinkHtml = 'Like what you see? Visit the ' +\n",
              "          '<a target=\"_blank\" href=https://colab.research.google.com/notebooks/data_table.ipynb>data table notebook</a>'\n",
              "          + ' to learn more about interactive tables.';\n",
              "        element.innerHTML = '';\n",
              "        dataTable['output_type'] = 'display_data';\n",
              "        await google.colab.output.renderOutput(dataTable, element);\n",
              "        const docLink = document.createElement('div');\n",
              "        docLink.innerHTML = docLinkHtml;\n",
              "        element.appendChild(docLink);\n",
              "      }\n",
              "    </script>\n",
              "  </div>\n",
              "\n",
              "\n",
              "<div id=\"df-f172b617-294a-40d8-b5a1-eee611438dec\">\n",
              "  <button class=\"colab-df-quickchart\" onclick=\"quickchart('df-f172b617-294a-40d8-b5a1-eee611438dec')\"\n",
              "            title=\"Suggest charts\"\n",
              "            style=\"display:none;\">\n",
              "\n",
              "<svg xmlns=\"http://www.w3.org/2000/svg\" height=\"24px\"viewBox=\"0 0 24 24\"\n",
              "     width=\"24px\">\n",
              "    <g>\n",
              "        <path d=\"M19 3H5c-1.1 0-2 .9-2 2v14c0 1.1.9 2 2 2h14c1.1 0 2-.9 2-2V5c0-1.1-.9-2-2-2zM9 17H7v-7h2v7zm4 0h-2V7h2v10zm4 0h-2v-4h2v4z\"/>\n",
              "    </g>\n",
              "</svg>\n",
              "  </button>\n",
              "\n",
              "<style>\n",
              "  .colab-df-quickchart {\n",
              "      --bg-color: #E8F0FE;\n",
              "      --fill-color: #1967D2;\n",
              "      --hover-bg-color: #E2EBFA;\n",
              "      --hover-fill-color: #174EA6;\n",
              "      --disabled-fill-color: #AAA;\n",
              "      --disabled-bg-color: #DDD;\n",
              "  }\n",
              "\n",
              "  [theme=dark] .colab-df-quickchart {\n",
              "      --bg-color: #3B4455;\n",
              "      --fill-color: #D2E3FC;\n",
              "      --hover-bg-color: #434B5C;\n",
              "      --hover-fill-color: #FFFFFF;\n",
              "      --disabled-bg-color: #3B4455;\n",
              "      --disabled-fill-color: #666;\n",
              "  }\n",
              "\n",
              "  .colab-df-quickchart {\n",
              "    background-color: var(--bg-color);\n",
              "    border: none;\n",
              "    border-radius: 50%;\n",
              "    cursor: pointer;\n",
              "    display: none;\n",
              "    fill: var(--fill-color);\n",
              "    height: 32px;\n",
              "    padding: 0;\n",
              "    width: 32px;\n",
              "  }\n",
              "\n",
              "  .colab-df-quickchart:hover {\n",
              "    background-color: var(--hover-bg-color);\n",
              "    box-shadow: 0 1px 2px rgba(60, 64, 67, 0.3), 0 1px 3px 1px rgba(60, 64, 67, 0.15);\n",
              "    fill: var(--button-hover-fill-color);\n",
              "  }\n",
              "\n",
              "  .colab-df-quickchart-complete:disabled,\n",
              "  .colab-df-quickchart-complete:disabled:hover {\n",
              "    background-color: var(--disabled-bg-color);\n",
              "    fill: var(--disabled-fill-color);\n",
              "    box-shadow: none;\n",
              "  }\n",
              "\n",
              "  .colab-df-spinner {\n",
              "    border: 2px solid var(--fill-color);\n",
              "    border-color: transparent;\n",
              "    border-bottom-color: var(--fill-color);\n",
              "    animation:\n",
              "      spin 1s steps(1) infinite;\n",
              "  }\n",
              "\n",
              "  @keyframes spin {\n",
              "    0% {\n",
              "      border-color: transparent;\n",
              "      border-bottom-color: var(--fill-color);\n",
              "      border-left-color: var(--fill-color);\n",
              "    }\n",
              "    20% {\n",
              "      border-color: transparent;\n",
              "      border-left-color: var(--fill-color);\n",
              "      border-top-color: var(--fill-color);\n",
              "    }\n",
              "    30% {\n",
              "      border-color: transparent;\n",
              "      border-left-color: var(--fill-color);\n",
              "      border-top-color: var(--fill-color);\n",
              "      border-right-color: var(--fill-color);\n",
              "    }\n",
              "    40% {\n",
              "      border-color: transparent;\n",
              "      border-right-color: var(--fill-color);\n",
              "      border-top-color: var(--fill-color);\n",
              "    }\n",
              "    60% {\n",
              "      border-color: transparent;\n",
              "      border-right-color: var(--fill-color);\n",
              "    }\n",
              "    80% {\n",
              "      border-color: transparent;\n",
              "      border-right-color: var(--fill-color);\n",
              "      border-bottom-color: var(--fill-color);\n",
              "    }\n",
              "    90% {\n",
              "      border-color: transparent;\n",
              "      border-bottom-color: var(--fill-color);\n",
              "    }\n",
              "  }\n",
              "</style>\n",
              "\n",
              "  <script>\n",
              "    async function quickchart(key) {\n",
              "      const quickchartButtonEl =\n",
              "        document.querySelector('#' + key + ' button');\n",
              "      quickchartButtonEl.disabled = true;  // To prevent multiple clicks.\n",
              "      quickchartButtonEl.classList.add('colab-df-spinner');\n",
              "      try {\n",
              "        const charts = await google.colab.kernel.invokeFunction(\n",
              "            'suggestCharts', [key], {});\n",
              "      } catch (error) {\n",
              "        console.error('Error during call to suggestCharts:', error);\n",
              "      }\n",
              "      quickchartButtonEl.classList.remove('colab-df-spinner');\n",
              "      quickchartButtonEl.classList.add('colab-df-quickchart-complete');\n",
              "    }\n",
              "    (() => {\n",
              "      let quickchartButtonEl =\n",
              "        document.querySelector('#df-f172b617-294a-40d8-b5a1-eee611438dec button');\n",
              "      quickchartButtonEl.style.display =\n",
              "        google.colab.kernel.accessAllowed ? 'block' : 'none';\n",
              "    })();\n",
              "  </script>\n",
              "</div>\n",
              "\n",
              "  <div id=\"id_632d6e0a-36f7-4799-bb21-4834d3bb6301\">\n",
              "    <style>\n",
              "      .colab-df-generate {\n",
              "        background-color: #E8F0FE;\n",
              "        border: none;\n",
              "        border-radius: 50%;\n",
              "        cursor: pointer;\n",
              "        display: none;\n",
              "        fill: #1967D2;\n",
              "        height: 32px;\n",
              "        padding: 0 0 0 0;\n",
              "        width: 32px;\n",
              "      }\n",
              "\n",
              "      .colab-df-generate:hover {\n",
              "        background-color: #E2EBFA;\n",
              "        box-shadow: 0px 1px 2px rgba(60, 64, 67, 0.3), 0px 1px 3px 1px rgba(60, 64, 67, 0.15);\n",
              "        fill: #174EA6;\n",
              "      }\n",
              "\n",
              "      [theme=dark] .colab-df-generate {\n",
              "        background-color: #3B4455;\n",
              "        fill: #D2E3FC;\n",
              "      }\n",
              "\n",
              "      [theme=dark] .colab-df-generate:hover {\n",
              "        background-color: #434B5C;\n",
              "        box-shadow: 0px 1px 3px 1px rgba(0, 0, 0, 0.15);\n",
              "        filter: drop-shadow(0px 1px 2px rgba(0, 0, 0, 0.3));\n",
              "        fill: #FFFFFF;\n",
              "      }\n",
              "    </style>\n",
              "    <button class=\"colab-df-generate\" onclick=\"generateWithVariable('tfidf_df')\"\n",
              "            title=\"Generate code using this dataframe.\"\n",
              "            style=\"display:none;\">\n",
              "\n",
              "  <svg xmlns=\"http://www.w3.org/2000/svg\" height=\"24px\"viewBox=\"0 0 24 24\"\n",
              "       width=\"24px\">\n",
              "    <path d=\"M7,19H8.4L18.45,9,17,7.55,7,17.6ZM5,21V16.75L18.45,3.32a2,2,0,0,1,2.83,0l1.4,1.43a1.91,1.91,0,0,1,.58,1.4,1.91,1.91,0,0,1-.58,1.4L9.25,21ZM18.45,9,17,7.55Zm-12,3A5.31,5.31,0,0,0,4.9,8.1,5.31,5.31,0,0,0,1,6.5,5.31,5.31,0,0,0,4.9,4.9,5.31,5.31,0,0,0,6.5,1,5.31,5.31,0,0,0,8.1,4.9,5.31,5.31,0,0,0,12,6.5,5.46,5.46,0,0,0,6.5,12Z\"/>\n",
              "  </svg>\n",
              "    </button>\n",
              "    <script>\n",
              "      (() => {\n",
              "      const buttonEl =\n",
              "        document.querySelector('#id_632d6e0a-36f7-4799-bb21-4834d3bb6301 button.colab-df-generate');\n",
              "      buttonEl.style.display =\n",
              "        google.colab.kernel.accessAllowed ? 'block' : 'none';\n",
              "\n",
              "      buttonEl.onclick = () => {\n",
              "        google.colab.notebook.generateWithVariable('tfidf_df');\n",
              "      }\n",
              "      })();\n",
              "    </script>\n",
              "  </div>\n",
              "\n",
              "    </div>\n",
              "  </div>\n"
            ],
            "application/vnd.google.colaboratory.intrinsic+json": {
              "type": "dataframe",
              "variable_name": "tfidf_df"
            }
          },
          "metadata": {},
          "execution_count": 30
        }
      ],
      "source": [
        "vectorizer = TfidfVectorizer()\n",
        "\n",
        "tfidf_matrix = vectorizer.fit_transform(df.text)\n",
        "\n",
        "tfidf_df = pd.DataFrame(tfidf_matrix.toarray(), columns=vectorizer.get_feature_names_out())\n",
        "tfidf_df"
      ]
    },
    {
      "cell_type": "markdown",
      "metadata": {
        "id": "C-Sf13zgwFYS"
      },
      "source": [
        "## Final Preprocessing Pipeline"
      ]
    },
    {
      "cell_type": "code",
      "execution_count": 32,
      "metadata": {
        "execution": {
          "iopub.execute_input": "2024-12-03T15:44:55.928827Z",
          "iopub.status.busy": "2024-12-03T15:44:55.927667Z",
          "iopub.status.idle": "2024-12-03T15:44:57.638801Z",
          "shell.execute_reply": "2024-12-03T15:44:57.637147Z",
          "shell.execute_reply.started": "2024-12-03T15:44:55.928779Z"
        },
        "trusted": true,
        "colab": {
          "base_uri": "https://localhost:8080/"
        },
        "id": "97IF07xlwFYS",
        "outputId": "ffa5796b-9556-47de-f78e-13d155e0a231"
      },
      "outputs": [
        {
          "output_type": "stream",
          "name": "stderr",
          "text": [
            "[nltk_data] Downloading package stopwords to /root/nltk_data...\n",
            "[nltk_data]   Package stopwords is already up-to-date!\n",
            "[nltk_data] Downloading package wordnet to /root/nltk_data...\n",
            "[nltk_data]   Package wordnet is already up-to-date!\n",
            "[nltk_data] Downloading package omw-1.4 to /root/nltk_data...\n",
            "[nltk_data]   Package omw-1.4 is already up-to-date!\n"
          ]
        }
      ],
      "source": [
        "import nltk\n",
        "import re\n",
        "import string\n",
        "\n",
        "nltk.download('stopwords')\n",
        "nltk.download('wordnet')\n",
        "nltk.download('omw-1.4')\n",
        "\n",
        "stopwords = nltk.corpus.stopwords.words('english')\n",
        "\n",
        "def to_lower(text):\n",
        "  return text.lower()\n",
        "\n",
        "def remove_punct(text):\n",
        "  return \"\".join([symbol for symbol in text if symbol not in string.punctuation])\n",
        "\n",
        "def tokenize(text):\n",
        "  return re.split(\"\\W+\", text)\n",
        "\n",
        "def remove_stopwords(sentence):\n",
        "  return [word for word in sentence if word not in stopwords]\n",
        "\n",
        "def stemm_word(tokenized_text):\n",
        "    ps = nltk.PorterStemmer()\n",
        "    return [ps.stem(word) for word in tokenized_text]\n",
        "\n",
        "\n",
        "def preprocess(series):\n",
        "    series = (\n",
        "        series\n",
        "            .apply(to_lower)\n",
        "            .apply(remove_punct)\n",
        "            .apply(tokenize)\n",
        "            .apply(remove_stopwords)\n",
        "            .apply(stemm_word)\n",
        "    )\n",
        "\n",
        "    return series"
      ]
    },
    {
      "cell_type": "code",
      "execution_count": 33,
      "metadata": {
        "trusted": true,
        "colab": {
          "base_uri": "https://localhost:8080/",
          "height": 615
        },
        "id": "TCj46a7ZwFYS",
        "outputId": "6c25dc09-58f2-4a1b-bcc2-ea1abc55d069"
      },
      "outputs": [
        {
          "output_type": "execute_result",
          "data": {
            "text/plain": [
              "      Unnamed: 0                                              title  \\\n",
              "0              0  Live from New York, it's a Trump-Clinton remat...   \n",
              "1              1  Catalan separatists to lose majority in tight ...   \n",
              "2              2  North Carolina governor concedes election to D...   \n",
              "3              3  Draft Senate Iran legislation sets tough new U...   \n",
              "4              4  California governor taps U.S. Representative B...   \n",
              "...          ...                                                ...   \n",
              "8112        8112  Sanders at Vatican says rich-poor gap worse th...   \n",
              "8113        8113                                 how trump happened   \n",
              "8114        8114  Turkey will take two steps if Germany takes on...   \n",
              "8115        8115  BREAKING: DEVICE THAT BUSTED HILLARY CLINTON D...   \n",
              "8116        8116  occupier david fry released from jail im reall...   \n",
              "\n",
              "                                                   text  label  \n",
              "0     NEW YORK (Reuters) - Veteran actor and frequen...      1  \n",
              "1     BARCELONA (Reuters) - Catalonia s independence...      1  \n",
              "2     WINSTON-SALEM, N.C. (Reuters) - North Carolina...      1  \n",
              "3     WASHINGTON (Reuters) - Draft legislation respo...      1  \n",
              "4     SACRAMENTO, Calif. (Reuters) - California Gove...      1  \n",
              "...                                                 ...    ...  \n",
              "8112  VATICAN CITY (Reuters) - U.S. presidential can...      1  \n",
              "8113  force and fanaticism  wahhabism in saudi arabi...      1  \n",
              "8114  ISTANBUL (Reuters) - Turkey, whose relations w...      1  \n",
              "8115  Here s why Clinton and Abedin should be flippi...      0  \n",
              "8116  one twitter user once asked me is it too much ...      0  \n",
              "\n",
              "[8117 rows x 4 columns]"
            ],
            "text/html": [
              "\n",
              "  <div id=\"df-5d430a52-cd41-4651-8bb6-b6ea89ade5fc\" class=\"colab-df-container\">\n",
              "    <div>\n",
              "<style scoped>\n",
              "    .dataframe tbody tr th:only-of-type {\n",
              "        vertical-align: middle;\n",
              "    }\n",
              "\n",
              "    .dataframe tbody tr th {\n",
              "        vertical-align: top;\n",
              "    }\n",
              "\n",
              "    .dataframe thead th {\n",
              "        text-align: right;\n",
              "    }\n",
              "</style>\n",
              "<table border=\"1\" class=\"dataframe\">\n",
              "  <thead>\n",
              "    <tr style=\"text-align: right;\">\n",
              "      <th></th>\n",
              "      <th>Unnamed: 0</th>\n",
              "      <th>title</th>\n",
              "      <th>text</th>\n",
              "      <th>label</th>\n",
              "    </tr>\n",
              "  </thead>\n",
              "  <tbody>\n",
              "    <tr>\n",
              "      <th>0</th>\n",
              "      <td>0</td>\n",
              "      <td>Live from New York, it's a Trump-Clinton remat...</td>\n",
              "      <td>NEW YORK (Reuters) - Veteran actor and frequen...</td>\n",
              "      <td>1</td>\n",
              "    </tr>\n",
              "    <tr>\n",
              "      <th>1</th>\n",
              "      <td>1</td>\n",
              "      <td>Catalan separatists to lose majority in tight ...</td>\n",
              "      <td>BARCELONA (Reuters) - Catalonia s independence...</td>\n",
              "      <td>1</td>\n",
              "    </tr>\n",
              "    <tr>\n",
              "      <th>2</th>\n",
              "      <td>2</td>\n",
              "      <td>North Carolina governor concedes election to D...</td>\n",
              "      <td>WINSTON-SALEM, N.C. (Reuters) - North Carolina...</td>\n",
              "      <td>1</td>\n",
              "    </tr>\n",
              "    <tr>\n",
              "      <th>3</th>\n",
              "      <td>3</td>\n",
              "      <td>Draft Senate Iran legislation sets tough new U...</td>\n",
              "      <td>WASHINGTON (Reuters) - Draft legislation respo...</td>\n",
              "      <td>1</td>\n",
              "    </tr>\n",
              "    <tr>\n",
              "      <th>4</th>\n",
              "      <td>4</td>\n",
              "      <td>California governor taps U.S. Representative B...</td>\n",
              "      <td>SACRAMENTO, Calif. (Reuters) - California Gove...</td>\n",
              "      <td>1</td>\n",
              "    </tr>\n",
              "    <tr>\n",
              "      <th>...</th>\n",
              "      <td>...</td>\n",
              "      <td>...</td>\n",
              "      <td>...</td>\n",
              "      <td>...</td>\n",
              "    </tr>\n",
              "    <tr>\n",
              "      <th>8112</th>\n",
              "      <td>8112</td>\n",
              "      <td>Sanders at Vatican says rich-poor gap worse th...</td>\n",
              "      <td>VATICAN CITY (Reuters) - U.S. presidential can...</td>\n",
              "      <td>1</td>\n",
              "    </tr>\n",
              "    <tr>\n",
              "      <th>8113</th>\n",
              "      <td>8113</td>\n",
              "      <td>how trump happened</td>\n",
              "      <td>force and fanaticism  wahhabism in saudi arabi...</td>\n",
              "      <td>1</td>\n",
              "    </tr>\n",
              "    <tr>\n",
              "      <th>8114</th>\n",
              "      <td>8114</td>\n",
              "      <td>Turkey will take two steps if Germany takes on...</td>\n",
              "      <td>ISTANBUL (Reuters) - Turkey, whose relations w...</td>\n",
              "      <td>1</td>\n",
              "    </tr>\n",
              "    <tr>\n",
              "      <th>8115</th>\n",
              "      <td>8115</td>\n",
              "      <td>BREAKING: DEVICE THAT BUSTED HILLARY CLINTON D...</td>\n",
              "      <td>Here s why Clinton and Abedin should be flippi...</td>\n",
              "      <td>0</td>\n",
              "    </tr>\n",
              "    <tr>\n",
              "      <th>8116</th>\n",
              "      <td>8116</td>\n",
              "      <td>occupier david fry released from jail im reall...</td>\n",
              "      <td>one twitter user once asked me is it too much ...</td>\n",
              "      <td>0</td>\n",
              "    </tr>\n",
              "  </tbody>\n",
              "</table>\n",
              "<p>8117 rows × 4 columns</p>\n",
              "</div>\n",
              "    <div class=\"colab-df-buttons\">\n",
              "\n",
              "  <div class=\"colab-df-container\">\n",
              "    <button class=\"colab-df-convert\" onclick=\"convertToInteractive('df-5d430a52-cd41-4651-8bb6-b6ea89ade5fc')\"\n",
              "            title=\"Convert this dataframe to an interactive table.\"\n",
              "            style=\"display:none;\">\n",
              "\n",
              "  <svg xmlns=\"http://www.w3.org/2000/svg\" height=\"24px\" viewBox=\"0 -960 960 960\">\n",
              "    <path d=\"M120-120v-720h720v720H120Zm60-500h600v-160H180v160Zm220 220h160v-160H400v160Zm0 220h160v-160H400v160ZM180-400h160v-160H180v160Zm440 0h160v-160H620v160ZM180-180h160v-160H180v160Zm440 0h160v-160H620v160Z\"/>\n",
              "  </svg>\n",
              "    </button>\n",
              "\n",
              "  <style>\n",
              "    .colab-df-container {\n",
              "      display:flex;\n",
              "      gap: 12px;\n",
              "    }\n",
              "\n",
              "    .colab-df-convert {\n",
              "      background-color: #E8F0FE;\n",
              "      border: none;\n",
              "      border-radius: 50%;\n",
              "      cursor: pointer;\n",
              "      display: none;\n",
              "      fill: #1967D2;\n",
              "      height: 32px;\n",
              "      padding: 0 0 0 0;\n",
              "      width: 32px;\n",
              "    }\n",
              "\n",
              "    .colab-df-convert:hover {\n",
              "      background-color: #E2EBFA;\n",
              "      box-shadow: 0px 1px 2px rgba(60, 64, 67, 0.3), 0px 1px 3px 1px rgba(60, 64, 67, 0.15);\n",
              "      fill: #174EA6;\n",
              "    }\n",
              "\n",
              "    .colab-df-buttons div {\n",
              "      margin-bottom: 4px;\n",
              "    }\n",
              "\n",
              "    [theme=dark] .colab-df-convert {\n",
              "      background-color: #3B4455;\n",
              "      fill: #D2E3FC;\n",
              "    }\n",
              "\n",
              "    [theme=dark] .colab-df-convert:hover {\n",
              "      background-color: #434B5C;\n",
              "      box-shadow: 0px 1px 3px 1px rgba(0, 0, 0, 0.15);\n",
              "      filter: drop-shadow(0px 1px 2px rgba(0, 0, 0, 0.3));\n",
              "      fill: #FFFFFF;\n",
              "    }\n",
              "  </style>\n",
              "\n",
              "    <script>\n",
              "      const buttonEl =\n",
              "        document.querySelector('#df-5d430a52-cd41-4651-8bb6-b6ea89ade5fc button.colab-df-convert');\n",
              "      buttonEl.style.display =\n",
              "        google.colab.kernel.accessAllowed ? 'block' : 'none';\n",
              "\n",
              "      async function convertToInteractive(key) {\n",
              "        const element = document.querySelector('#df-5d430a52-cd41-4651-8bb6-b6ea89ade5fc');\n",
              "        const dataTable =\n",
              "          await google.colab.kernel.invokeFunction('convertToInteractive',\n",
              "                                                    [key], {});\n",
              "        if (!dataTable) return;\n",
              "\n",
              "        const docLinkHtml = 'Like what you see? Visit the ' +\n",
              "          '<a target=\"_blank\" href=https://colab.research.google.com/notebooks/data_table.ipynb>data table notebook</a>'\n",
              "          + ' to learn more about interactive tables.';\n",
              "        element.innerHTML = '';\n",
              "        dataTable['output_type'] = 'display_data';\n",
              "        await google.colab.output.renderOutput(dataTable, element);\n",
              "        const docLink = document.createElement('div');\n",
              "        docLink.innerHTML = docLinkHtml;\n",
              "        element.appendChild(docLink);\n",
              "      }\n",
              "    </script>\n",
              "  </div>\n",
              "\n",
              "\n",
              "<div id=\"df-7794d25f-792a-4904-9afb-a52b9d2418d6\">\n",
              "  <button class=\"colab-df-quickchart\" onclick=\"quickchart('df-7794d25f-792a-4904-9afb-a52b9d2418d6')\"\n",
              "            title=\"Suggest charts\"\n",
              "            style=\"display:none;\">\n",
              "\n",
              "<svg xmlns=\"http://www.w3.org/2000/svg\" height=\"24px\"viewBox=\"0 0 24 24\"\n",
              "     width=\"24px\">\n",
              "    <g>\n",
              "        <path d=\"M19 3H5c-1.1 0-2 .9-2 2v14c0 1.1.9 2 2 2h14c1.1 0 2-.9 2-2V5c0-1.1-.9-2-2-2zM9 17H7v-7h2v7zm4 0h-2V7h2v10zm4 0h-2v-4h2v4z\"/>\n",
              "    </g>\n",
              "</svg>\n",
              "  </button>\n",
              "\n",
              "<style>\n",
              "  .colab-df-quickchart {\n",
              "      --bg-color: #E8F0FE;\n",
              "      --fill-color: #1967D2;\n",
              "      --hover-bg-color: #E2EBFA;\n",
              "      --hover-fill-color: #174EA6;\n",
              "      --disabled-fill-color: #AAA;\n",
              "      --disabled-bg-color: #DDD;\n",
              "  }\n",
              "\n",
              "  [theme=dark] .colab-df-quickchart {\n",
              "      --bg-color: #3B4455;\n",
              "      --fill-color: #D2E3FC;\n",
              "      --hover-bg-color: #434B5C;\n",
              "      --hover-fill-color: #FFFFFF;\n",
              "      --disabled-bg-color: #3B4455;\n",
              "      --disabled-fill-color: #666;\n",
              "  }\n",
              "\n",
              "  .colab-df-quickchart {\n",
              "    background-color: var(--bg-color);\n",
              "    border: none;\n",
              "    border-radius: 50%;\n",
              "    cursor: pointer;\n",
              "    display: none;\n",
              "    fill: var(--fill-color);\n",
              "    height: 32px;\n",
              "    padding: 0;\n",
              "    width: 32px;\n",
              "  }\n",
              "\n",
              "  .colab-df-quickchart:hover {\n",
              "    background-color: var(--hover-bg-color);\n",
              "    box-shadow: 0 1px 2px rgba(60, 64, 67, 0.3), 0 1px 3px 1px rgba(60, 64, 67, 0.15);\n",
              "    fill: var(--button-hover-fill-color);\n",
              "  }\n",
              "\n",
              "  .colab-df-quickchart-complete:disabled,\n",
              "  .colab-df-quickchart-complete:disabled:hover {\n",
              "    background-color: var(--disabled-bg-color);\n",
              "    fill: var(--disabled-fill-color);\n",
              "    box-shadow: none;\n",
              "  }\n",
              "\n",
              "  .colab-df-spinner {\n",
              "    border: 2px solid var(--fill-color);\n",
              "    border-color: transparent;\n",
              "    border-bottom-color: var(--fill-color);\n",
              "    animation:\n",
              "      spin 1s steps(1) infinite;\n",
              "  }\n",
              "\n",
              "  @keyframes spin {\n",
              "    0% {\n",
              "      border-color: transparent;\n",
              "      border-bottom-color: var(--fill-color);\n",
              "      border-left-color: var(--fill-color);\n",
              "    }\n",
              "    20% {\n",
              "      border-color: transparent;\n",
              "      border-left-color: var(--fill-color);\n",
              "      border-top-color: var(--fill-color);\n",
              "    }\n",
              "    30% {\n",
              "      border-color: transparent;\n",
              "      border-left-color: var(--fill-color);\n",
              "      border-top-color: var(--fill-color);\n",
              "      border-right-color: var(--fill-color);\n",
              "    }\n",
              "    40% {\n",
              "      border-color: transparent;\n",
              "      border-right-color: var(--fill-color);\n",
              "      border-top-color: var(--fill-color);\n",
              "    }\n",
              "    60% {\n",
              "      border-color: transparent;\n",
              "      border-right-color: var(--fill-color);\n",
              "    }\n",
              "    80% {\n",
              "      border-color: transparent;\n",
              "      border-right-color: var(--fill-color);\n",
              "      border-bottom-color: var(--fill-color);\n",
              "    }\n",
              "    90% {\n",
              "      border-color: transparent;\n",
              "      border-bottom-color: var(--fill-color);\n",
              "    }\n",
              "  }\n",
              "</style>\n",
              "\n",
              "  <script>\n",
              "    async function quickchart(key) {\n",
              "      const quickchartButtonEl =\n",
              "        document.querySelector('#' + key + ' button');\n",
              "      quickchartButtonEl.disabled = true;  // To prevent multiple clicks.\n",
              "      quickchartButtonEl.classList.add('colab-df-spinner');\n",
              "      try {\n",
              "        const charts = await google.colab.kernel.invokeFunction(\n",
              "            'suggestCharts', [key], {});\n",
              "      } catch (error) {\n",
              "        console.error('Error during call to suggestCharts:', error);\n",
              "      }\n",
              "      quickchartButtonEl.classList.remove('colab-df-spinner');\n",
              "      quickchartButtonEl.classList.add('colab-df-quickchart-complete');\n",
              "    }\n",
              "    (() => {\n",
              "      let quickchartButtonEl =\n",
              "        document.querySelector('#df-7794d25f-792a-4904-9afb-a52b9d2418d6 button');\n",
              "      quickchartButtonEl.style.display =\n",
              "        google.colab.kernel.accessAllowed ? 'block' : 'none';\n",
              "    })();\n",
              "  </script>\n",
              "</div>\n",
              "\n",
              "  <div id=\"id_69fd07ee-7239-4c48-a4f0-4ef53ac5cf9d\">\n",
              "    <style>\n",
              "      .colab-df-generate {\n",
              "        background-color: #E8F0FE;\n",
              "        border: none;\n",
              "        border-radius: 50%;\n",
              "        cursor: pointer;\n",
              "        display: none;\n",
              "        fill: #1967D2;\n",
              "        height: 32px;\n",
              "        padding: 0 0 0 0;\n",
              "        width: 32px;\n",
              "      }\n",
              "\n",
              "      .colab-df-generate:hover {\n",
              "        background-color: #E2EBFA;\n",
              "        box-shadow: 0px 1px 2px rgba(60, 64, 67, 0.3), 0px 1px 3px 1px rgba(60, 64, 67, 0.15);\n",
              "        fill: #174EA6;\n",
              "      }\n",
              "\n",
              "      [theme=dark] .colab-df-generate {\n",
              "        background-color: #3B4455;\n",
              "        fill: #D2E3FC;\n",
              "      }\n",
              "\n",
              "      [theme=dark] .colab-df-generate:hover {\n",
              "        background-color: #434B5C;\n",
              "        box-shadow: 0px 1px 3px 1px rgba(0, 0, 0, 0.15);\n",
              "        filter: drop-shadow(0px 1px 2px rgba(0, 0, 0, 0.3));\n",
              "        fill: #FFFFFF;\n",
              "      }\n",
              "    </style>\n",
              "    <button class=\"colab-df-generate\" onclick=\"generateWithVariable('df')\"\n",
              "            title=\"Generate code using this dataframe.\"\n",
              "            style=\"display:none;\">\n",
              "\n",
              "  <svg xmlns=\"http://www.w3.org/2000/svg\" height=\"24px\"viewBox=\"0 0 24 24\"\n",
              "       width=\"24px\">\n",
              "    <path d=\"M7,19H8.4L18.45,9,17,7.55,7,17.6ZM5,21V16.75L18.45,3.32a2,2,0,0,1,2.83,0l1.4,1.43a1.91,1.91,0,0,1,.58,1.4,1.91,1.91,0,0,1-.58,1.4L9.25,21ZM18.45,9,17,7.55Zm-12,3A5.31,5.31,0,0,0,4.9,8.1,5.31,5.31,0,0,0,1,6.5,5.31,5.31,0,0,0,4.9,4.9,5.31,5.31,0,0,0,6.5,1,5.31,5.31,0,0,0,8.1,4.9,5.31,5.31,0,0,0,12,6.5,5.46,5.46,0,0,0,6.5,12Z\"/>\n",
              "  </svg>\n",
              "    </button>\n",
              "    <script>\n",
              "      (() => {\n",
              "      const buttonEl =\n",
              "        document.querySelector('#id_69fd07ee-7239-4c48-a4f0-4ef53ac5cf9d button.colab-df-generate');\n",
              "      buttonEl.style.display =\n",
              "        google.colab.kernel.accessAllowed ? 'block' : 'none';\n",
              "\n",
              "      buttonEl.onclick = () => {\n",
              "        google.colab.notebook.generateWithVariable('df');\n",
              "      }\n",
              "      })();\n",
              "    </script>\n",
              "  </div>\n",
              "\n",
              "    </div>\n",
              "  </div>\n"
            ],
            "application/vnd.google.colaboratory.intrinsic+json": {
              "type": "dataframe",
              "variable_name": "df",
              "summary": "{\n  \"name\": \"df\",\n  \"rows\": 8117,\n  \"fields\": [\n    {\n      \"column\": \"Unnamed: 0\",\n      \"properties\": {\n        \"dtype\": \"number\",\n        \"std\": 2343,\n        \"min\": 0,\n        \"max\": 8116,\n        \"num_unique_values\": 8117,\n        \"samples\": [\n          6598,\n          7927,\n          1691\n        ],\n        \"semantic_type\": \"\",\n        \"description\": \"\"\n      }\n    },\n    {\n      \"column\": \"title\",\n      \"properties\": {\n        \"dtype\": \"string\",\n        \"num_unique_values\": 8069,\n        \"samples\": [\n          \"Trump doubles monthly campaign fundraising, lags Clinton\",\n          \"Harris Corp wins $1.7 billion U.S. defense contract: Pentagon\",\n          \"Senate investigations panel to probe Mylan's EpiPen pricing\"\n        ],\n        \"semantic_type\": \"\",\n        \"description\": \"\"\n      }\n    },\n    {\n      \"column\": \"text\",\n      \"properties\": {\n        \"dtype\": \"string\",\n        \"num_unique_values\": 8117,\n        \"samples\": [\n          \"Tim Poole is citizen journalist who s done some really important work exposing Antifa, Black Bloc and the violent non-profit group By Any Means Necessary (BAMN). He sits down with popular Youtube personality Joey Salads who went undercover with Antifa in Berkeley, CA during the riots on April 15th to explore what he found.One of the most interesting observations Salads makes is that the  Women are the dominant ones in the group  and that they  mostly control everything. Considering how many cowardly men are walking around with masks over their faces while they grab one person from the free-speech side into their crowd, so the entire group could brutally beat one person with no interference from the other side, it shouldn t surprise anyone that the women are the aggressors.Salads also points out that the Antifa members  aren t too smart.  They talk about the bike groups he saw and how they use the bikes to wall themselves off. Salads also confirms Antifa members were throwing rocks, bottles and M-80 s into the crowd.Tim Pool frequently calls the Trump supporters the  alt-right  which according to the left (who made up the term to disparage Trump supporters) means that they are  racists . Pool asks Salads if he believed any of the people who Antifa were attacking were  racists ? Salads told him that while he did see a few racists at the event that it was a free-speech rally and that while most of the people were Trump supporters, the rally was about  free-speech  and that the point of free-speech in America is not about whether or not you agree with what the other person saying, but about their right to express their feelings and thoughts.Watch here:Here is Salad s video showing what he saw while he went undercover in Berkeley with Antifa on April 15th:Berkeley middle school teacher Yvette Felarca, a national organizer for militant left-wing activist group By Any Means Necessary (BAMN), is clearly the aggressor in their group. Watch her interview with Tucker Carlson:\",\n          \"WASHINGTON (Reuters) - U.S. presidential candidate Democrat Bernie Sanders voted on Tuesday in favor of a bill that would require audits of Federal Reserve monetary policy decisions, his campaign said in a statement following the vote. Sanders said he supports the bill because too much of the U.S. central bank\\u2019s business is conducted in secret. \\u201cRequiring the Government Accountability Office to conduct a full and independent audit of the Fed each and every year, would be an important step towards making the Federal Reserve a more democratic institution that is responsive to the needs of ordinary Americans rather than the billionaires on Wall Street,\\u201d Sanders said in the statement. \",\n          \"BERLIN (Reuters) - Two veteran allies of Chancellor Angela Merkel appealed to Germany s parties on Tuesday to strike a compromise and form a stable government that could drag Europe s biggest economy out of a political impasse. The collapse of talks between Merkel s conservative bloc, the pro-business Free Democrats (FDP) and environmentalist Greens has thrown Germany into political uncertainty and raised the prospect of new elections. It has cast doubt over whether Merkel, Europe s most powerful leader after 12 years in office, will serve a fourth term after her conservatives bled support to the far-right in a Sept. 24 election, though still won the most seats. There are wider implications too for Europe since the collapse of talks means the euro zone s ambitious plans for deeper economic integration could now be put on hold, euro zone officials said in Brussels on Tuesday.  Merkel s former finance minister Wolfgang Schaeuble, now in the impartial role of parliamentary president, said compromise was the order of the day while chancellery chief Peter Altmaier gave parties three weeks to sort out the mess.  We must be in a situation in the next three weeks where there is clarity about whether there can be a stable government on the basis of this election result,  Altmaier, also acting finance minister, told ZDF television. Merkel has said she prefers new elections to an unstable minority government. Until a government is agreed, she continues as acting chancellor and previous ministers remain in post, while the newly-elected parliament also proceeds with business. Pressure is growing on the Social Democrats (SPD) whose leader Martin Schulz has refused to contemplate re-entering a Merkel-led government after voters punished them for sharing power with her for the last four years.  Many in the SPD fear that another four-year term with Merkel, who is herself still popular, would mean their political suicide.  Altmaier appealed to the SPD to reconsider:  Like  Made in Germany , we are known for having a stable and reliable government ... we must give the SPD a chance to think.  Andrea Nahles, head of the SPD s parliamentary group reiterated that it did not want to prop up Merkel again.   We are not an emergency stop-gap for Merkel,  she said.  However, she also said the SPD would use talks with President Frank-Walter Steinmeier, who is meeting party leaders to explore possibilities to form a government, to find solutions, hinting at other possible options.  We should talk about how we form a process that leads our country into a new, stable government,  Nahles said, adding this might be a minority government or new elections. Steinmeier met FDP and Greens leaders on Tuesday, but they made no comment after the meetings. One option could be an alliance between the conservatives and Greens, who built up a certain level of trust during the exploratory talks, which could be  tolerated  by the SPD. That could guarantee some government policies get through parliament. Michael Kellner, a top Greens negotiator, said it was up to Merkel s party to propose such a minority government, but did not rule it out as an option. In a sign that compromise is still possible, Merkel s Christian Democrats, FDP and Greens voted together on a motion in parliament on Tuesday to create the conditions for Ireland to pay back debts early to the International Monetary Fund (IMF). One former SPD leader Bjoern Engholm said the SPD should rethink their  no  to a grand coalition, but he said any such alliance would only be possible without Merkel. Many commentators think the far-right Alternative for Germany (AfD) stand to gain most from new elections although polls show no big differences from the September results. Due to a protracted procedure designed to avoid repeated elections, a new vote would take months to organize, raising worries that European reform efforts will be held up.  Europe needs a Germany that is capable of acting,  said  Schaeuble.  The reactions from abroad show that Europe and many other countries in the world are waiting for us.  He said it was important for parties to compromise to avert a crisis, saying this did not mean parties had to ditch their principles.  The task is huge, but it s not unsolvable.\"\n        ],\n        \"semantic_type\": \"\",\n        \"description\": \"\"\n      }\n    },\n    {\n      \"column\": \"label\",\n      \"properties\": {\n        \"dtype\": \"number\",\n        \"std\": 0,\n        \"min\": 0,\n        \"max\": 1,\n        \"num_unique_values\": 2,\n        \"samples\": [\n          0,\n          1\n        ],\n        \"semantic_type\": \"\",\n        \"description\": \"\"\n      }\n    }\n  ]\n}"
            }
          },
          "metadata": {},
          "execution_count": 33
        }
      ],
      "source": [
        "df = pd.read_csv(\"/content/drive/MyDrive/fake-news-classification/test (1).csv\", sep=\";\")\n",
        "df"
      ]
    },
    {
      "cell_type": "code",
      "execution_count": 34,
      "metadata": {
        "execution": {
          "iopub.execute_input": "2024-12-03T12:57:18.757534Z",
          "iopub.status.busy": "2024-12-03T12:57:18.757180Z",
          "iopub.status.idle": "2024-12-03T12:58:07.363960Z",
          "shell.execute_reply": "2024-12-03T12:58:07.362780Z",
          "shell.execute_reply.started": "2024-12-03T12:57:18.757503Z"
        },
        "trusted": true,
        "colab": {
          "base_uri": "https://localhost:8080/",
          "height": 458
        },
        "id": "DmU3bXfewFYS",
        "outputId": "b0e83750-b1a0-4fcd-8cf9-deaffae7c19b"
      },
      "outputs": [
        {
          "output_type": "execute_result",
          "data": {
            "text/plain": [
              "0       [new, york, reuter, veteran, actor, frequent, ...\n",
              "1       [barcelona, reuter, catalonia, independ, movem...\n",
              "2       [winstonsalem, nc, reuter, north, carolina, go...\n",
              "3       [washington, reuter, draft, legisl, respond, u...\n",
              "4       [sacramento, calif, reuter, california, govern...\n",
              "                              ...                        \n",
              "8112    [vatican, citi, reuter, us, presidenti, candid...\n",
              "8113    [forc, fanatic, wahhab, saudi, arabia, beyond,...\n",
              "8114    [istanbul, reuter, turkey, whose, relat, germa...\n",
              "8115    [clinton, abedin, flip, multipl, state, employ...\n",
              "8116    [one, twitter, user, ask, much, hope, one, par...\n",
              "Name: text, Length: 8117, dtype: object"
            ],
            "text/html": [
              "<div>\n",
              "<style scoped>\n",
              "    .dataframe tbody tr th:only-of-type {\n",
              "        vertical-align: middle;\n",
              "    }\n",
              "\n",
              "    .dataframe tbody tr th {\n",
              "        vertical-align: top;\n",
              "    }\n",
              "\n",
              "    .dataframe thead th {\n",
              "        text-align: right;\n",
              "    }\n",
              "</style>\n",
              "<table border=\"1\" class=\"dataframe\">\n",
              "  <thead>\n",
              "    <tr style=\"text-align: right;\">\n",
              "      <th></th>\n",
              "      <th>text</th>\n",
              "    </tr>\n",
              "  </thead>\n",
              "  <tbody>\n",
              "    <tr>\n",
              "      <th>0</th>\n",
              "      <td>[new, york, reuter, veteran, actor, frequent, ...</td>\n",
              "    </tr>\n",
              "    <tr>\n",
              "      <th>1</th>\n",
              "      <td>[barcelona, reuter, catalonia, independ, movem...</td>\n",
              "    </tr>\n",
              "    <tr>\n",
              "      <th>2</th>\n",
              "      <td>[winstonsalem, nc, reuter, north, carolina, go...</td>\n",
              "    </tr>\n",
              "    <tr>\n",
              "      <th>3</th>\n",
              "      <td>[washington, reuter, draft, legisl, respond, u...</td>\n",
              "    </tr>\n",
              "    <tr>\n",
              "      <th>4</th>\n",
              "      <td>[sacramento, calif, reuter, california, govern...</td>\n",
              "    </tr>\n",
              "    <tr>\n",
              "      <th>...</th>\n",
              "      <td>...</td>\n",
              "    </tr>\n",
              "    <tr>\n",
              "      <th>8112</th>\n",
              "      <td>[vatican, citi, reuter, us, presidenti, candid...</td>\n",
              "    </tr>\n",
              "    <tr>\n",
              "      <th>8113</th>\n",
              "      <td>[forc, fanatic, wahhab, saudi, arabia, beyond,...</td>\n",
              "    </tr>\n",
              "    <tr>\n",
              "      <th>8114</th>\n",
              "      <td>[istanbul, reuter, turkey, whose, relat, germa...</td>\n",
              "    </tr>\n",
              "    <tr>\n",
              "      <th>8115</th>\n",
              "      <td>[clinton, abedin, flip, multipl, state, employ...</td>\n",
              "    </tr>\n",
              "    <tr>\n",
              "      <th>8116</th>\n",
              "      <td>[one, twitter, user, ask, much, hope, one, par...</td>\n",
              "    </tr>\n",
              "  </tbody>\n",
              "</table>\n",
              "<p>8117 rows × 1 columns</p>\n",
              "</div><br><label><b>dtype:</b> object</label>"
            ]
          },
          "metadata": {},
          "execution_count": 34
        }
      ],
      "source": [
        "df_test = preprocess(df['text'])\n",
        "df_test"
      ]
    },
    {
      "cell_type": "markdown",
      "metadata": {
        "id": "PNsy8WUcwFYS"
      },
      "source": [
        "# Train Test Validation Split"
      ]
    },
    {
      "cell_type": "code",
      "execution_count": 35,
      "metadata": {
        "execution": {
          "iopub.execute_input": "2024-12-03T15:44:35.599687Z",
          "iopub.status.busy": "2024-12-03T15:44:35.599272Z",
          "iopub.status.idle": "2024-12-03T15:44:36.003119Z",
          "shell.execute_reply": "2024-12-03T15:44:36.001939Z",
          "shell.execute_reply.started": "2024-12-03T15:44:35.599652Z"
        },
        "trusted": true,
        "id": "qrFN7QLQwFYS"
      },
      "outputs": [],
      "source": [
        "import os\n",
        "import pandas as pd"
      ]
    },
    {
      "cell_type": "code",
      "execution_count": 36,
      "metadata": {
        "execution": {
          "iopub.execute_input": "2024-12-03T15:44:36.953247Z",
          "iopub.status.busy": "2024-12-03T15:44:36.952692Z",
          "iopub.status.idle": "2024-12-03T15:44:36.960162Z",
          "shell.execute_reply": "2024-12-03T15:44:36.958893Z",
          "shell.execute_reply.started": "2024-12-03T15:44:36.953209Z"
        },
        "trusted": true,
        "id": "4alJLlgfwFYS"
      },
      "outputs": [],
      "source": [
        "BASE_DIR = '/content/drive/MyDrive/fake-news-classification'\n",
        "\n",
        "train_path = os.path.join(BASE_DIR, \"train (2).csv\")\n",
        "val_path = os.path.join(BASE_DIR, \"evaluation.csv\")\n",
        "test_path = os.path.join(BASE_DIR, \"test (1).csv\")"
      ]
    },
    {
      "cell_type": "code",
      "execution_count": 37,
      "metadata": {
        "execution": {
          "iopub.execute_input": "2024-12-03T15:44:38.592944Z",
          "iopub.status.busy": "2024-12-03T15:44:38.592547Z",
          "iopub.status.idle": "2024-12-03T15:44:41.526781Z",
          "shell.execute_reply": "2024-12-03T15:44:41.525450Z",
          "shell.execute_reply.started": "2024-12-03T15:44:38.592911Z"
        },
        "trusted": true,
        "id": "kk7gGmSnwFYS"
      },
      "outputs": [],
      "source": [
        "train_df = pd.read_csv(train_path, sep=\";\")\n",
        "val_df = pd.read_csv(val_path, sep=\";\")\n",
        "test_df = pd.read_csv(test_path, sep=\";\")"
      ]
    },
    {
      "cell_type": "code",
      "execution_count": 38,
      "metadata": {
        "execution": {
          "iopub.execute_input": "2024-12-03T15:44:44.785034Z",
          "iopub.status.busy": "2024-12-03T15:44:44.784587Z",
          "iopub.status.idle": "2024-12-03T15:44:44.800952Z",
          "shell.execute_reply": "2024-12-03T15:44:44.799671Z",
          "shell.execute_reply.started": "2024-12-03T15:44:44.784992Z"
        },
        "trusted": true,
        "id": "yEaFsWzywFYS"
      },
      "outputs": [],
      "source": [
        "train_df = train_df[['text', 'label']]\n",
        "val_df = val_df[['text', 'label']]\n",
        "test_df = test_df[['text', 'label']]"
      ]
    },
    {
      "cell_type": "code",
      "execution_count": 39,
      "metadata": {
        "execution": {
          "iopub.execute_input": "2024-12-03T15:44:46.814926Z",
          "iopub.status.busy": "2024-12-03T15:44:46.814499Z",
          "iopub.status.idle": "2024-12-03T15:44:46.934662Z",
          "shell.execute_reply": "2024-12-03T15:44:46.933496Z",
          "shell.execute_reply.started": "2024-12-03T15:44:46.814890Z"
        },
        "trusted": true,
        "id": "0OekP5MwwFYS"
      },
      "outputs": [],
      "source": [
        "train_df.drop_duplicates(subset=['text'], inplace=True)\n",
        "val_df.drop_duplicates(subset=['text'], inplace=True)\n",
        "test_df.drop_duplicates(subset=['text'], inplace=True)"
      ]
    },
    {
      "cell_type": "code",
      "execution_count": 40,
      "metadata": {
        "execution": {
          "iopub.execute_input": "2024-12-03T15:44:48.333322Z",
          "iopub.status.busy": "2024-12-03T15:44:48.332955Z",
          "iopub.status.idle": "2024-12-03T15:44:48.347763Z",
          "shell.execute_reply": "2024-12-03T15:44:48.346106Z",
          "shell.execute_reply.started": "2024-12-03T15:44:48.333291Z"
        },
        "trusted": true,
        "id": "bXZXl-U-wFYS"
      },
      "outputs": [],
      "source": [
        "assert train_df.notna().size == train_df.size\n",
        "assert val_df.notna().size == val_df.size\n",
        "assert test_df.notna().size == test_df.size"
      ]
    },
    {
      "cell_type": "code",
      "execution_count": null,
      "metadata": {
        "execution": {
          "iopub.execute_input": "2024-12-03T15:45:00.023814Z",
          "iopub.status.busy": "2024-12-03T15:45:00.023200Z",
          "iopub.status.idle": "2024-12-03T15:47:29.856639Z",
          "shell.execute_reply": "2024-12-03T15:47:29.855556Z",
          "shell.execute_reply.started": "2024-12-03T15:45:00.023771Z"
        },
        "trusted": true,
        "id": "wLmhpukVwFYS"
      },
      "outputs": [],
      "source": [
        "train_df.text = preprocess(train_df.text)"
      ]
    },
    {
      "cell_type": "code",
      "execution_count": null,
      "metadata": {
        "execution": {
          "iopub.execute_input": "2024-12-03T15:52:05.701240Z",
          "iopub.status.busy": "2024-12-03T15:52:05.700695Z",
          "iopub.status.idle": "2024-12-03T15:52:05.716918Z",
          "shell.execute_reply": "2024-12-03T15:52:05.715515Z",
          "shell.execute_reply.started": "2024-12-03T15:52:05.701189Z"
        },
        "trusted": true,
        "id": "wtrOjouIwFYT"
      },
      "outputs": [],
      "source": [
        "test_df.text = preprocess(test_df.text)"
      ]
    },
    {
      "cell_type": "code",
      "execution_count": null,
      "metadata": {
        "trusted": true,
        "id": "nMP4qFLZwFYT"
      },
      "outputs": [],
      "source": [
        "val_df.text = preprocess(val_df.text)"
      ]
    },
    {
      "cell_type": "code",
      "execution_count": null,
      "metadata": {
        "execution": {
          "iopub.execute_input": "2024-12-03T15:52:45.135855Z",
          "iopub.status.busy": "2024-12-03T15:52:45.134716Z",
          "iopub.status.idle": "2024-12-03T15:52:45.388575Z",
          "shell.execute_reply": "2024-12-03T15:52:45.387514Z",
          "shell.execute_reply.started": "2024-12-03T15:52:45.135786Z"
        },
        "trusted": true,
        "id": "5Swe7L-XwFYT"
      },
      "outputs": [],
      "source": [
        "train_df.text = train_df.text.apply(lambda x: \" \".join(x))"
      ]
    },
    {
      "cell_type": "code",
      "execution_count": null,
      "metadata": {
        "execution": {
          "iopub.execute_input": "2024-12-03T15:52:47.271310Z",
          "iopub.status.busy": "2024-12-03T15:52:47.270891Z",
          "iopub.status.idle": "2024-12-03T15:52:47.348078Z",
          "shell.execute_reply": "2024-12-03T15:52:47.346863Z",
          "shell.execute_reply.started": "2024-12-03T15:52:47.271238Z"
        },
        "trusted": true,
        "id": "cLvmySGTwFYT"
      },
      "outputs": [],
      "source": [
        "test_df.text = test_df.text.apply(lambda x: \" \".join(x))"
      ]
    },
    {
      "cell_type": "code",
      "execution_count": null,
      "metadata": {
        "execution": {
          "iopub.execute_input": "2024-12-03T15:52:49.862287Z",
          "iopub.status.busy": "2024-12-03T15:52:49.861909Z",
          "iopub.status.idle": "2024-12-03T15:52:49.942876Z",
          "shell.execute_reply": "2024-12-03T15:52:49.941574Z",
          "shell.execute_reply.started": "2024-12-03T15:52:49.862255Z"
        },
        "trusted": true,
        "id": "fSvrFxB0wFYT"
      },
      "outputs": [],
      "source": [
        "val_df.text = val_df.text.apply(lambda x: \" \".join(x))"
      ]
    },
    {
      "cell_type": "code",
      "execution_count": null,
      "metadata": {
        "execution": {
          "iopub.execute_input": "2024-12-03T15:53:06.566829Z",
          "iopub.status.busy": "2024-12-03T15:53:06.565623Z",
          "iopub.status.idle": "2024-12-03T15:53:15.353746Z",
          "shell.execute_reply": "2024-12-03T15:53:15.352509Z",
          "shell.execute_reply.started": "2024-12-03T15:53:06.566772Z"
        },
        "trusted": true,
        "id": "u-rYnAZjwFYT"
      },
      "outputs": [],
      "source": [
        "from sklearn.feature_extraction.text import TfidfVectorizer\n",
        "\n",
        "vectorizer = TfidfVectorizer()\n",
        "\n",
        "X_train_tfidf = vectorizer.fit_transform(train_df.text.to_list())\n",
        "X_val_tfidf = vectorizer.transform(val_df.text.to_list())\n",
        "X_test_tfidf = vectorizer.transform(test_df.text.to_list())\n",
        "\n",
        "y_train = train_df.label\n",
        "y_val = val_df.label\n",
        "y_test = test_df.label\n",
        "\n",
        "print(X_train_tfidf.shape)\n",
        "print(X_val_tfidf.shape)\n",
        "print(X_test_tfidf.shape)"
      ]
    },
    {
      "cell_type": "code",
      "execution_count": null,
      "metadata": {
        "trusted": true,
        "id": "uL_2AqEjwFYT"
      },
      "outputs": [],
      "source": [
        "vectorizer.get_feature_names_out()"
      ]
    },
    {
      "cell_type": "markdown",
      "metadata": {
        "id": "ST6vBQenwFYT"
      },
      "source": [
        "## Logistic Regression"
      ]
    },
    {
      "cell_type": "code",
      "execution_count": null,
      "metadata": {
        "execution": {
          "iopub.execute_input": "2024-12-03T15:53:23.742146Z",
          "iopub.status.busy": "2024-12-03T15:53:23.741747Z",
          "iopub.status.idle": "2024-12-03T15:53:23.747764Z",
          "shell.execute_reply": "2024-12-03T15:53:23.746591Z",
          "shell.execute_reply.started": "2024-12-03T15:53:23.742109Z"
        },
        "trusted": true,
        "id": "n6Z55X1nwFYT"
      },
      "outputs": [],
      "source": [
        "from sklearn.linear_model import LogisticRegression\n",
        "from sklearn.metrics import classification_report"
      ]
    },
    {
      "cell_type": "markdown",
      "metadata": {
        "id": "yD-ivkQOwFYT"
      },
      "source": [
        "## Train & Predict"
      ]
    },
    {
      "cell_type": "code",
      "execution_count": null,
      "metadata": {
        "execution": {
          "iopub.execute_input": "2024-12-03T15:53:25.934885Z",
          "iopub.status.busy": "2024-12-03T15:53:25.934442Z",
          "iopub.status.idle": "2024-12-03T15:53:29.182124Z",
          "shell.execute_reply": "2024-12-03T15:53:29.178622Z",
          "shell.execute_reply.started": "2024-12-03T15:53:25.934847Z"
        },
        "trusted": true,
        "id": "ligikOAIwFYT"
      },
      "outputs": [],
      "source": [
        "# Logistic Regression Model\n",
        "model = LogisticRegression()\n",
        "model.fit(X_train_tfidf, y_train)  # Train the model\n",
        "\n",
        "# Predictions\n",
        "y_pred = model.predict(X_test_tfidf)\n",
        "\n",
        "# Evaluation\n",
        "print(\"Classification Report:\")\n",
        "print(classification_report(y_test, y_pred))"
      ]
    },
    {
      "cell_type": "markdown",
      "metadata": {
        "id": "RH-tczbGwFYT"
      },
      "source": [
        "## Evaluation"
      ]
    },
    {
      "cell_type": "code",
      "execution_count": null,
      "metadata": {
        "execution": {
          "iopub.execute_input": "2024-12-03T15:54:27.459665Z",
          "iopub.status.busy": "2024-12-03T15:54:27.459162Z",
          "iopub.status.idle": "2024-12-03T15:54:27.495224Z",
          "shell.execute_reply": "2024-12-03T15:54:27.493966Z",
          "shell.execute_reply.started": "2024-12-03T15:54:27.459628Z"
        },
        "trusted": true,
        "id": "8tXs-PIXwFYT"
      },
      "outputs": [],
      "source": [
        "y_pred = model.predict(X_val_tfidf)\n",
        "\n",
        "# Evaluation\n",
        "print(\"Classification Report:\")\n",
        "print(classification_report(y_val, y_pred))"
      ]
    },
    {
      "cell_type": "code",
      "execution_count": null,
      "metadata": {
        "execution": {
          "iopub.execute_input": "2024-12-03T15:58:03.831482Z",
          "iopub.status.busy": "2024-12-03T15:58:03.830478Z",
          "iopub.status.idle": "2024-12-03T15:58:04.353027Z",
          "shell.execute_reply": "2024-12-03T15:58:04.351847Z",
          "shell.execute_reply.started": "2024-12-03T15:58:03.831436Z"
        },
        "trusted": true,
        "id": "_e-MOmTEwFYT"
      },
      "outputs": [],
      "source": [
        "import matplotlib.pyplot as plt\n",
        "import seaborn as sns\n",
        "\n",
        "report = classification_report(y_val, y_pred, output_dict=True)\n",
        "\n",
        "# Step 3: Convert report to a DataFrame\n",
        "df_report = pd.DataFrame(report).transpose()\n",
        "\n",
        "# Step 4: Select relevant rows and metrics\n",
        "metrics = df_report.loc[['0', '1'], ['precision', 'recall', 'f1-score']]\n",
        "\n",
        "# Step 5: Plot the metrics\n",
        "metrics.plot(kind='bar', figsize=(8, 6), color=['skyblue', 'orange', 'lightgreen'])\n",
        "plt.title('Classification Report Metrics')\n",
        "plt.ylabel('Score')\n",
        "plt.xlabel('Class')\n",
        "plt.xticks(rotation=0)\n",
        "plt.ylim(0, 1.1)  # Metrics range from 0 to 1\n",
        "plt.legend(loc='lower right')\n",
        "plt.grid(axis='y', linestyle='--', alpha=0.7)\n",
        "plt.tight_layout()"
      ]
    },
    {
      "cell_type": "markdown",
      "source": [
        "#LSTM"
      ],
      "metadata": {
        "id": "Iw6uKS22yKYQ"
      }
    },
    {
      "cell_type": "code",
      "source": [
        "from tensorflow.keras.preprocessing.text import Tokenizer\n",
        "from tensorflow.keras.preprocessing.sequence import pad_sequences\n",
        "from tensorflow.keras.models import Sequential\n",
        "from tensorflow.keras.layers import Embedding, LSTM, Dense, Dropout\n",
        "from sklearn.preprocessing import LabelEncoder\n",
        "import matplotlib.pyplot as plt\n",
        "\n",
        "\n",
        "# Tokenize\n",
        "tokenizer = Tokenizer(num_words=10000, oov_token=\"<OOV>\")\n",
        "tokenizer.fit_on_texts(X_train)\n",
        "X_train_seq = tokenizer.texts_to_sequences(X_train)\n",
        "X_val_seq = tokenizer.texts_to_sequences(X_val)\n",
        "X_train_pad = pad_sequences(X_train_seq, maxlen=200, padding='post')\n",
        "X_val_pad = pad_sequences(X_val_seq, maxlen=200, padding='post')\n",
        "\n",
        "# Label encode\n",
        "le = LabelEncoder()\n",
        "y_train_enc = le.fit_transform(y_train)\n",
        "y_val_enc = le.transform(y_val)\n",
        "\n",
        "\n"
      ],
      "metadata": {
        "id": "9BoRCDeIyL6q"
      },
      "execution_count": null,
      "outputs": []
    },
    {
      "cell_type": "code",
      "source": [
        "# Build LSTM model\n",
        "model = Sequential([\n",
        "    Embedding(10000, 64, input_length=200),\n",
        "    LSTM(64),\n",
        "    Dropout(0.5),\n",
        "    Dense(1, activation='sigmoid')\n",
        "])\n",
        "model.compile(loss='binary_crossentropy', optimizer='adam', metrics=['accuracy'])\n",
        "model.fit(X_train_pad, y_train_enc, epochs=3, batch_size=64, validation_data=(X_val_pad, y_val_enc))\n",
        "\n",
        "# Predict\n",
        "y_pred = (model.predict(X_val_pad) > 0.5).astype(\"int32\")\n",
        "\n"
      ],
      "metadata": {
        "id": "NcCnTXggyxku"
      },
      "execution_count": null,
      "outputs": []
    },
    {
      "cell_type": "code",
      "source": [
        "# Classification report\n",
        "report = classification_report(y_val_enc, y_pred, output_dict=True)\n",
        "report_df = pd.DataFrame(report).transpose()\n",
        "\n"
      ],
      "metadata": {
        "id": "QKtXs3W9yy0x"
      },
      "execution_count": null,
      "outputs": []
    },
    {
      "cell_type": "code",
      "source": [
        "# Plot\n",
        "report_df[:-1][['precision', 'recall', 'f1-score']].plot(kind='bar')\n",
        "plt.title('LSTM Classification Report')\n",
        "plt.ylabel('Score')\n",
        "plt.ylim(0, 1.1)\n",
        "plt.xticks(rotation=45)\n",
        "plt.grid(True)\n",
        "plt.tight_layout()\n",
        "plt.show()"
      ],
      "metadata": {
        "id": "XtaYyg3Qyzsi"
      },
      "execution_count": null,
      "outputs": []
    },
    {
      "cell_type": "markdown",
      "source": [
        "#BERT Text Classification"
      ],
      "metadata": {
        "id": "PJnZOx5Qy2KV"
      }
    },
    {
      "cell_type": "code",
      "source": [
        "import torch\n",
        "from transformers import BertTokenizer, BertForSequenceClassification, Trainer, TrainingArguments\n",
        "from datasets import Dataset\n",
        "\n",
        "# Convert to HuggingFace dataset format\n",
        "train_ds = Dataset.from_pandas(pd.DataFrame({\"text\": X_train, \"label\": y_train}))\n",
        "val_ds = Dataset.from_pandas(pd.DataFrame({\"text\": X_val, \"label\": y_val}))\n",
        "\n",
        "# Load tokenizer\n",
        "tokenizer = BertTokenizer.from_pretrained('bert-base-uncased')\n",
        "\n",
        "def tokenize(batch):\n",
        "    return tokenizer(batch[\"text\"], padding=\"max_length\", truncation=True, max_length=256)\n",
        "\n",
        "train_ds = train_ds.map(tokenize, batched=True)\n",
        "val_ds = val_ds.map(tokenize, batched=True)\n",
        "\n",
        "train_ds.set_format(\"torch\", columns=[\"input_ids\", \"attention_mask\", \"label\"])\n",
        "val_ds.set_format(\"torch\", columns=[\"input_ids\", \"attention_mask\", \"label\"])\n",
        "\n",
        "# Load model\n",
        "model = BertForSequenceClassification.from_pretrained(\"bert-base-uncased\", num_labels=2)\n",
        "\n",
        "# Training arguments\n",
        "training_args = TrainingArguments(\n",
        "    output_dir=\"./results\",\n",
        "    num_train_epochs=2,\n",
        "    per_device_train_batch_size=16,\n",
        "    per_device_eval_batch_size=32,\n",
        "    evaluation_strategy=\"epoch\",\n",
        "    save_strategy=\"no\",\n",
        "    logging_dir=\"./logs\",\n",
        "    logging_steps=50,\n",
        "    load_best_model_at_end=False,\n",
        ")\n",
        "\n",
        "# Define Trainer\n",
        "trainer = Trainer(\n",
        "    model=model,\n",
        "    args=training_args,\n",
        "    train_dataset=train_ds,\n",
        "    eval_dataset=val_ds,\n",
        ")\n",
        "\n",
        "# Train\n",
        "trainer.train()\n",
        "\n",
        "# Predict\n",
        "predictions = trainer.predict(val_ds)\n",
        "y_pred = np.argmax(predictions.predictions, axis=1)\n",
        "\n"
      ],
      "metadata": {
        "id": "zIw2WYUEy2zd"
      },
      "execution_count": null,
      "outputs": []
    },
    {
      "cell_type": "code",
      "source": [
        "# Evaluation\n",
        "report = classification_report(y_val, y_pred, output_dict=True)\n",
        "report_df = pd.DataFrame(report).transpose()\n",
        "\n",
        "\n"
      ],
      "metadata": {
        "id": "A1lSDyoKzDuS"
      },
      "execution_count": null,
      "outputs": []
    },
    {
      "cell_type": "code",
      "source": [
        "# Plot\n",
        "report_df[:-1][['precision', 'recall', 'f1-score']].plot(kind='bar')\n",
        "plt.title('BERT Classification Report')\n",
        "plt.ylabel('Score')\n",
        "plt.ylim(0, 1.1)\n",
        "plt.xticks(rotation=45)\n",
        "plt.grid(True)\n",
        "plt.tight_layout()\n",
        "plt.show()"
      ],
      "metadata": {
        "id": "QWy9dMJuzE1c"
      },
      "execution_count": null,
      "outputs": []
    },
    {
      "cell_type": "markdown",
      "source": [
        "#Naïve Bayes Text Classification"
      ],
      "metadata": {
        "id": "PrrUkzrG1yeb"
      }
    },
    {
      "cell_type": "code",
      "source": [
        "\n",
        "# TF-IDF vectorization\n",
        "vectorizer = TfidfVectorizer(stop_words='english', max_features=10000)\n",
        "X_train_vec = vectorizer.fit_transform(X_train)\n",
        "X_val_vec = vectorizer.transform(X_val)\n",
        "\n",
        "# Train Naive Bayes\n",
        "nb_model = MultinomialNB()\n",
        "nb_model.fit(X_train_vec, y_train)\n",
        "\n",
        "# Predict\n",
        "y_pred_nb = nb_model.predict(X_val_vec)\n",
        "\n",
        "\n"
      ],
      "metadata": {
        "id": "aBjdquQV19O_"
      },
      "execution_count": null,
      "outputs": []
    },
    {
      "cell_type": "code",
      "source": [
        "# Classification report\n",
        "nb_report = classification_report(y_val, y_pred_nb, output_dict=True)\n",
        "nb_df = pd.DataFrame(nb_report).transpose()\n",
        "\n"
      ],
      "metadata": {
        "id": "Saz90Cb92FGs"
      },
      "execution_count": null,
      "outputs": []
    },
    {
      "cell_type": "code",
      "source": [
        "# Plot\n",
        "nb_df[:-1][['precision', 'recall', 'f1-score']].plot(kind='bar')\n",
        "plt.title('Naïve Bayes Classification Report')\n",
        "plt.ylabel('Score')\n",
        "plt.ylim(0, 1.1)\n",
        "plt.grid(True)\n",
        "plt.tight_layout()\n",
        "plt.show()"
      ],
      "metadata": {
        "id": "-d2Fuf4M2GAK"
      },
      "execution_count": null,
      "outputs": []
    },
    {
      "cell_type": "markdown",
      "source": [
        "#SVM"
      ],
      "metadata": {
        "id": "9gyE4HrF2Gsf"
      }
    },
    {
      "cell_type": "code",
      "source": [
        "from sklearn.svm import LinearSVC\n",
        "\n",
        "# Train SVM\n",
        "svm_model = LinearSVC()\n",
        "svm_model.fit(X_train_vec, y_train)\n",
        "\n",
        "# Predict\n",
        "y_pred_svm = svm_model.predict(X_val_vec)\n",
        "\n"
      ],
      "metadata": {
        "id": "MACi2WO82Ji_"
      },
      "execution_count": null,
      "outputs": []
    },
    {
      "cell_type": "code",
      "source": [
        "# Classification report\n",
        "svm_report = classification_report(y_val, y_pred_svm, output_dict=True)\n",
        "svm_df = pd.DataFrame(svm_report).transpose()\n",
        "\n"
      ],
      "metadata": {
        "id": "ZPjtcvOD2KyK"
      },
      "execution_count": null,
      "outputs": []
    },
    {
      "cell_type": "code",
      "source": [
        "# Plot\n",
        "svm_df[:-1][['precision', 'recall', 'f1-score']].plot(kind='bar')\n",
        "plt.title('SVM Classification Report')\n",
        "plt.ylabel('Score')\n",
        "plt.ylim(0, 1.1)\n",
        "plt.grid(True)\n",
        "plt.tight_layout()\n",
        "plt.show()\n"
      ],
      "metadata": {
        "id": "atC6pK6M2LnD"
      },
      "execution_count": null,
      "outputs": []
    }
  ],
  "metadata": {
    "kaggle": {
      "accelerator": "none",
      "dataSources": [
        {
          "datasetId": 5926278,
          "sourceId": 9693156,
          "sourceType": "datasetVersion"
        }
      ],
      "dockerImageVersionId": 30786,
      "isGpuEnabled": false,
      "isInternetEnabled": true,
      "language": "python",
      "sourceType": "notebook"
    },
    "kernelspec": {
      "display_name": "Python 3",
      "language": "python",
      "name": "python3"
    },
    "language_info": {
      "codemirror_mode": {
        "name": "ipython",
        "version": 3
      },
      "file_extension": ".py",
      "mimetype": "text/x-python",
      "name": "python",
      "nbconvert_exporter": "python",
      "pygments_lexer": "ipython3",
      "version": "3.10.14"
    },
    "colab": {
      "provenance": []
    }
  },
  "nbformat": 4,
  "nbformat_minor": 0
}